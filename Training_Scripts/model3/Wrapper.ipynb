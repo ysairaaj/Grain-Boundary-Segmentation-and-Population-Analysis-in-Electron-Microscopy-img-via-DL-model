{
 "cells": [
  {
   "cell_type": "code",
   "execution_count": 1,
   "id": "8f883379",
   "metadata": {},
   "outputs": [
    {
     "name": "stderr",
     "output_type": "stream",
     "text": [
      "D:\\anaconda\\envs\\topo_crack_detection\\lib\\site-packages\\tqdm\\auto.py:21: TqdmWarning: IProgress not found. Please update jupyter and ipywidgets. See https://ipywidgets.readthedocs.io/en/stable/user_install.html\n",
      "  from .autonotebook import tqdm as notebook_tqdm\n"
     ]
    }
   ],
   "source": [
    "from train_data_generator import data_gen"
   ]
  },
  {
   "cell_type": "code",
   "execution_count": 2,
   "id": "a6285711",
   "metadata": {},
   "outputs": [],
   "source": [
    "import numpy as np"
   ]
  },
  {
   "cell_type": "code",
   "execution_count": 3,
   "id": "084c1446",
   "metadata": {},
   "outputs": [
    {
     "data": {
      "text/plain": [
       "numpy.ndarray"
      ]
     },
     "execution_count": 3,
     "metadata": {},
     "output_type": "execute_result"
    }
   ],
   "source": [
    "type(np.ones(1))"
   ]
  },
  {
   "cell_type": "code",
   "execution_count": 4,
   "id": "96614659",
   "metadata": {
    "scrolled": false
   },
   "outputs": [
    {
     "name": "stdout",
     "output_type": "stream",
     "text": [
      "The new directory ./data/_inp_/train/ is created!\n",
      "The new directory ./data/_inp_/val/ is created!\n",
      "The new directory ./data/_inp_/test/ is created!\n",
      "Done !!\n",
      "Created 3139 augmented images of MC16_S1rt00 of size : (256, 256) taking the step size : (100, 100)\n",
      "stored :  3139\n",
      "Distributed in train :2198 , val :628 , test :313 \n",
      "Done !!\n",
      "Created 4032 augmented images of MC16_S2rt00 of size : (256, 256) taking the step size : (100, 100)\n",
      "stored :  4032\n",
      "Distributed in train :2823 , val :806 , test :403 \n",
      "Done !!\n",
      "Created 3268 augmented images of MC6_S1rt00 of size : (256, 256) taking the step size : (100, 100)\n",
      "stored :  3268\n",
      "Distributed in train :2288 , val :654 , test :326 \n",
      "Done !!\n",
      "Created 3139 augmented images of MC16_S1rt90 of size : (256, 256) taking the step size : (100, 100)\n",
      "stored :  3139\n",
      "Distributed in train :2198 , val :628 , test :313 \n",
      "Done !!\n",
      "Created 4032 augmented images of MC16_S2rt90 of size : (256, 256) taking the step size : (100, 100)\n",
      "stored :  4032\n",
      "Distributed in train :2823 , val :806 , test :403 \n",
      "Done !!\n",
      "Created 3268 augmented images of MC6_S1rt90 of size : (256, 256) taking the step size : (100, 100)\n",
      "stored :  3268\n",
      "Distributed in train :2288 , val :654 , test :326 \n",
      "Done !!\n",
      "Created 3139 augmented images of MC16_S1rt180 of size : (256, 256) taking the step size : (100, 100)\n",
      "stored :  3139\n",
      "Distributed in train :2198 , val :628 , test :313 \n",
      "Done !!\n",
      "Created 4032 augmented images of MC16_S2rt180 of size : (256, 256) taking the step size : (100, 100)\n",
      "stored :  4032\n",
      "Distributed in train :2823 , val :806 , test :403 \n",
      "Done !!\n",
      "Created 3268 augmented images of MC6_S1rt180 of size : (256, 256) taking the step size : (100, 100)\n",
      "stored :  3268\n",
      "Distributed in train :2288 , val :654 , test :326 \n",
      "Done !!\n",
      "Created 3139 augmented images of MC16_S1fplr of size : (256, 256) taking the step size : (100, 100)\n",
      "stored :  3139\n",
      "Distributed in train :2198 , val :628 , test :313 \n",
      "Done !!\n",
      "Created 4032 augmented images of MC16_S2fplr of size : (256, 256) taking the step size : (100, 100)\n",
      "stored :  4032\n",
      "Distributed in train :2823 , val :806 , test :403 \n",
      "Done !!\n",
      "Created 3268 augmented images of MC6_S1fplr of size : (256, 256) taking the step size : (100, 100)\n",
      "stored :  3268\n",
      "Distributed in train :2288 , val :654 , test :326 \n",
      "Done !!\n",
      "Created 3139 augmented images of MC16_S1fpud of size : (256, 256) taking the step size : (100, 100)\n",
      "stored :  3139\n",
      "Distributed in train :2198 , val :628 , test :313 \n",
      "Done !!\n",
      "Created 4032 augmented images of MC16_S2fpud of size : (256, 256) taking the step size : (100, 100)\n",
      "stored :  4032\n",
      "Distributed in train :2823 , val :806 , test :403 \n",
      "Done !!\n",
      "Created 3268 augmented images of MC6_S1fpud of size : (256, 256) taking the step size : (100, 100)\n",
      "stored :  3268\n",
      "Distributed in train :2288 , val :654 , test :326 \n",
      "Created 36545 train_set_inp , 10440 val_set_inp , 5210 test_set_inp .\n",
      "The new directory ./data/_out_/train/ is created!\n",
      "The new directory ./data/_out_/val/ is created!\n",
      "The new directory ./data/_out_/test/ is created!\n",
      "Done !!\n",
      "Created 3139 augmented images of MC16_S1rt00 of size : (256, 256) taking the step size : (100, 100)\n",
      "stored :  3139\n",
      "Distributed in train :2198 , val :628 , test :313 \n",
      "Done !!\n",
      "Created 4032 augmented images of MC16_S2rt00 of size : (256, 256) taking the step size : (100, 100)\n",
      "stored :  4032\n",
      "Distributed in train :2823 , val :806 , test :403 \n",
      "Done !!\n",
      "Created 3268 augmented images of MC6_S1rt00 of size : (256, 256) taking the step size : (100, 100)\n",
      "stored :  3268\n",
      "Distributed in train :2288 , val :654 , test :326 \n",
      "Done !!\n",
      "Created 3139 augmented images of MC16_S1rt90 of size : (256, 256) taking the step size : (100, 100)\n",
      "stored :  3139\n",
      "Distributed in train :2198 , val :628 , test :313 \n",
      "Done !!\n",
      "Created 4032 augmented images of MC16_S2rt90 of size : (256, 256) taking the step size : (100, 100)\n",
      "stored :  4032\n",
      "Distributed in train :2823 , val :806 , test :403 \n",
      "Done !!\n",
      "Created 3268 augmented images of MC6_S1rt90 of size : (256, 256) taking the step size : (100, 100)\n",
      "stored :  3268\n",
      "Distributed in train :2288 , val :654 , test :326 \n",
      "Done !!\n",
      "Created 3139 augmented images of MC16_S1rt180 of size : (256, 256) taking the step size : (100, 100)\n",
      "stored :  3139\n",
      "Distributed in train :2198 , val :628 , test :313 \n",
      "Done !!\n",
      "Created 4032 augmented images of MC16_S2rt180 of size : (256, 256) taking the step size : (100, 100)\n",
      "stored :  4032\n",
      "Distributed in train :2823 , val :806 , test :403 \n",
      "Done !!\n",
      "Created 3268 augmented images of MC6_S1rt180 of size : (256, 256) taking the step size : (100, 100)\n",
      "stored :  3268\n",
      "Distributed in train :2288 , val :654 , test :326 \n",
      "Done !!\n",
      "Created 3139 augmented images of MC16_S1fplr of size : (256, 256) taking the step size : (100, 100)\n",
      "stored :  3139\n",
      "Distributed in train :2198 , val :628 , test :313 \n",
      "Done !!\n",
      "Created 4032 augmented images of MC16_S2fplr of size : (256, 256) taking the step size : (100, 100)\n",
      "stored :  4032\n",
      "Distributed in train :2823 , val :806 , test :403 \n",
      "Done !!\n",
      "Created 3268 augmented images of MC6_S1fplr of size : (256, 256) taking the step size : (100, 100)\n",
      "stored :  3268\n",
      "Distributed in train :2288 , val :654 , test :326 \n",
      "Done !!\n",
      "Created 3139 augmented images of MC16_S1fpud of size : (256, 256) taking the step size : (100, 100)\n",
      "stored :  3139\n",
      "Distributed in train :2198 , val :628 , test :313 \n",
      "Done !!\n",
      "Created 4032 augmented images of MC16_S2fpud of size : (256, 256) taking the step size : (100, 100)\n",
      "stored :  4032\n",
      "Distributed in train :2823 , val :806 , test :403 \n",
      "Done !!\n",
      "Created 3268 augmented images of MC6_S1fpud of size : (256, 256) taking the step size : (100, 100)\n",
      "stored :  3268\n",
      "Distributed in train :2288 , val :654 , test :326 \n",
      "Created 36545 train_set_out , 10440 val_set_out , 5210 test_set_out .\n"
     ]
    }
   ],
   "source": [
    "data_gen(raw_loc = \"./data/Raw/img0/\" , raw_loc_out = \"./data/Raw/img0_out/\" , out_loc = \"./data/\" , dim = (256 , 256) , data_ratio = (0.7,0.2,0.1) , save_data = True)"
   ]
  },
  {
   "cell_type": "code",
   "execution_count": null,
   "id": "f4e8ba46",
   "metadata": {},
   "outputs": [],
   "source": [
    "\"Created 39465 train_set_inp , 11275 val_set_inp , 5635 test_set_inp .\""
   ]
  },
  {
   "cell_type": "code",
   "execution_count": 4,
   "id": "78e72b65",
   "metadata": {},
   "outputs": [],
   "source": [
    "import os"
   ]
  },
  {
   "cell_type": "code",
   "execution_count": 6,
   "id": "5b3fd2ea",
   "metadata": {},
   "outputs": [
    {
     "data": {
      "text/plain": [
       "['Raw', '_inp_', '_out_']"
      ]
     },
     "execution_count": 6,
     "metadata": {},
     "output_type": "execute_result"
    }
   ],
   "source": [
    "os.listdir(\"./data/\")"
   ]
  },
  {
   "cell_type": "code",
   "execution_count": 11,
   "id": "39118a24",
   "metadata": {},
   "outputs": [],
   "source": [
    "n1 = os.listdir(\"./data/_inp_/train/\")\n",
    "n2 = os.listdir(\"./data/_out_/train/\")\n",
    "\n",
    "arr = [x1 for x1 in n1 if x1 not in n2]"
   ]
  },
  {
   "cell_type": "code",
   "execution_count": 10,
   "id": "fc9c191a",
   "metadata": {},
   "outputs": [
    {
     "name": "stdout",
     "output_type": "stream",
     "text": [
      "['MC16_S1rt00_3100_3800.png', 'MC16_S1rt00_3100_3900.png', 'MC16_S1rt00_3100_4000.png', 'MC16_S1rt00_3100_4100.png', 'MC16_S1rt00_3100_4200.png', 'MC16_S1rt00_3100_4300.png', 'MC16_S1rt00_3100_4400.png', 'MC16_S1rt00_3100_4500.png', 'MC16_S1rt00_3100_4600.png', 'MC16_S1rt00_3100_4700.png', 'MC16_S1rt00_3100_4800.png', 'MC16_S1rt00_3100_4900.png', 'MC16_S1rt00_3100_5000.png', 'MC16_S1rt00_3100_5100.png', 'MC16_S1rt00_3100_5200.png', 'MC16_S1rt00_3100_5300.png', 'MC16_S1rt00_3100_5400.png', 'MC16_S1rt00_3100_5500.png', 'MC16_S1rt00_3100_5600.png', 'MC16_S1rt00_3100_5700.png', 'MC16_S1rt00_3100_5800.png', 'MC16_S1rt00_3100_5900.png', 'MC16_S1rt00_3100_6000.png', 'MC16_S1rt00_3100_6100.png', 'MC16_S1rt00_3100_6200.png', 'MC16_S1rt00_3100_6300.png', 'MC16_S1rt00_3100_6400.png', 'MC16_S1rt00_3100_6500.png', 'MC16_S1rt00_3100_6600.png', 'MC16_S1rt00_3100_6700.png', 'MC16_S1rt00_3100_6800.png', 'MC16_S1rt00_3100_6900.png', 'MC16_S1rt00_3100_7000.png', 'MC16_S1rt00_3100_7100.png', 'MC16_S1rt00_3100_7200.png', 'MC16_S1rt00_3100_7300.png', 'MC16_S1rt00_3100_7400.png', 'MC16_S1rt00_3100_7500.png']\n"
     ]
    }
   ],
   "source": [
    "print(arr)"
   ]
  },
  {
   "cell_type": "code",
   "execution_count": 12,
   "id": "2b60eadc",
   "metadata": {},
   "outputs": [
    {
     "name": "stdout",
     "output_type": "stream",
     "text": [
      "[]\n"
     ]
    }
   ],
   "source": [
    "print(arr)"
   ]
  },
  {
   "cell_type": "code",
   "execution_count": 13,
   "id": "f8eabb24",
   "metadata": {},
   "outputs": [],
   "source": [
    "n1 = os.listdir(\"./data/_inp_/test/\")\n",
    "n2 = os.listdir(\"./data/_out_/test/\")\n",
    "\n",
    "arr1 = [x1 for x1 in n1 if x1 not in n2]"
   ]
  },
  {
   "cell_type": "code",
   "execution_count": 14,
   "id": "49a8cde4",
   "metadata": {},
   "outputs": [
    {
     "name": "stdout",
     "output_type": "stream",
     "text": [
      "['MC16_S1rt00_4000_3800.png', 'MC16_S1rt00_4000_3900.png', 'MC16_S1rt00_4000_4000.png', 'MC16_S1rt00_4000_4100.png', 'MC16_S1rt00_4000_4200.png', 'MC16_S1rt00_4000_4300.png', 'MC16_S1rt00_4000_4400.png', 'MC16_S1rt00_4000_4500.png', 'MC16_S1rt00_4000_4600.png', 'MC16_S1rt00_4000_4700.png', 'MC16_S1rt00_4000_4800.png', 'MC16_S1rt00_4000_4900.png', 'MC16_S1rt00_4000_5000.png', 'MC16_S1rt00_4000_5100.png', 'MC16_S1rt00_4000_5200.png', 'MC16_S1rt00_4000_5300.png', 'MC16_S1rt00_4000_5400.png', 'MC16_S1rt00_4000_5500.png', 'MC16_S1rt00_4000_5600.png', 'MC16_S1rt00_4000_5700.png', 'MC16_S1rt00_4000_5800.png', 'MC16_S1rt00_4000_5900.png', 'MC16_S1rt00_4000_6000.png', 'MC16_S1rt00_4000_6100.png', 'MC16_S1rt00_4000_6200.png', 'MC16_S1rt00_4000_6300.png', 'MC16_S1rt00_4000_6400.png', 'MC16_S1rt00_4000_6500.png', 'MC16_S1rt00_4000_6600.png', 'MC16_S1rt00_4000_6700.png', 'MC16_S1rt00_4000_6800.png', 'MC16_S1rt00_4000_6900.png', 'MC16_S1rt00_4000_7000.png', 'MC16_S1rt00_4000_7100.png', 'MC16_S1rt00_4000_7200.png', 'MC16_S1rt00_4000_7300.png', 'MC16_S1rt00_4000_7400.png', 'MC16_S1rt00_4000_7500.png']\n"
     ]
    }
   ],
   "source": [
    "print(arr1)"
   ]
  },
  {
   "cell_type": "code",
   "execution_count": 15,
   "id": "11471813",
   "metadata": {},
   "outputs": [],
   "source": [
    "n1 = os.listdir(\"./data/_inp_/val/\")\n",
    "n2 = os.listdir(\"./data/_out_/val/\")\n",
    "\n",
    "arr2 = [x1 for x1 in n1 if x1 not in n2]"
   ]
  },
  {
   "cell_type": "code",
   "execution_count": 16,
   "id": "b579522a",
   "metadata": {},
   "outputs": [
    {
     "name": "stdout",
     "output_type": "stream",
     "text": [
      "['MC16_S1rt00_3100_3800.png', 'MC16_S1rt00_3100_3900.png', 'MC16_S1rt00_3100_4000.png', 'MC16_S1rt00_3100_4100.png', 'MC16_S1rt00_3100_4200.png', 'MC16_S1rt00_3100_4300.png', 'MC16_S1rt00_3100_4400.png', 'MC16_S1rt00_3100_4500.png', 'MC16_S1rt00_3100_4600.png', 'MC16_S1rt00_3100_4700.png', 'MC16_S1rt00_3100_4800.png', 'MC16_S1rt00_3100_4900.png', 'MC16_S1rt00_3100_5000.png', 'MC16_S1rt00_3100_5100.png', 'MC16_S1rt00_3100_5200.png', 'MC16_S1rt00_3100_5300.png', 'MC16_S1rt00_3100_5400.png', 'MC16_S1rt00_3100_5500.png', 'MC16_S1rt00_3100_5600.png', 'MC16_S1rt00_3100_5700.png', 'MC16_S1rt00_3100_5800.png', 'MC16_S1rt00_3100_5900.png', 'MC16_S1rt00_3100_6000.png', 'MC16_S1rt00_3100_6100.png', 'MC16_S1rt00_3100_6200.png', 'MC16_S1rt00_3100_6300.png', 'MC16_S1rt00_3100_6400.png', 'MC16_S1rt00_3100_6500.png', 'MC16_S1rt00_3100_6600.png', 'MC16_S1rt00_3100_6700.png', 'MC16_S1rt00_3100_6800.png', 'MC16_S1rt00_3100_6900.png', 'MC16_S1rt00_3100_7000.png', 'MC16_S1rt00_3100_7100.png', 'MC16_S1rt00_3100_7200.png', 'MC16_S1rt00_3100_7300.png', 'MC16_S1rt00_3100_7400.png', 'MC16_S1rt00_3100_7500.png']\n"
     ]
    }
   ],
   "source": [
    "print(arr2)"
   ]
  },
  {
   "cell_type": "code",
   "execution_count": null,
   "id": "61ee8e36",
   "metadata": {},
   "outputs": [],
   "source": []
  },
  {
   "cell_type": "code",
   "execution_count": 1,
   "id": "5fb9614c",
   "metadata": {},
   "outputs": [
    {
     "name": "stderr",
     "output_type": "stream",
     "text": [
      "D:\\anaconda\\envs\\topo_crack_detection\\lib\\site-packages\\tqdm\\auto.py:21: TqdmWarning: IProgress not found. Please update jupyter and ipywidgets. See https://ipywidgets.readthedocs.io/en/stable/user_install.html\n",
      "  from .autonotebook import tqdm as notebook_tqdm\n"
     ]
    }
   ],
   "source": [
    "import os\n",
    "import numpy as np\n",
    "import cv2 as cv\n",
    "import torch\n",
    "from math import sqrt as sqrt\n",
    "from data_set import open_dataset\n",
    "from network import UNet16\n",
    "from torch.utils.data import DataLoader"
   ]
  },
  {
   "cell_type": "code",
   "execution_count": 2,
   "id": "917eb0c9",
   "metadata": {},
   "outputs": [],
   "source": [
    "import PIL.Image"
   ]
  },
  {
   "cell_type": "code",
   "execution_count": 3,
   "id": "b56f33ff",
   "metadata": {},
   "outputs": [],
   "source": [
    "model_path = './models/_full_weights_15_0.0001_1.0_0.1.pt'"
   ]
  },
  {
   "cell_type": "code",
   "execution_count": 4,
   "id": "8dbe3e96",
   "metadata": {},
   "outputs": [],
   "source": [
    "path2test=\"./data/_inp_/test\""
   ]
  },
  {
   "cell_type": "code",
   "execution_count": 5,
   "id": "b68ac761",
   "metadata": {},
   "outputs": [
    {
     "name": "stderr",
     "output_type": "stream",
     "text": [
      "D:\\anaconda\\envs\\topo_crack_detection\\lib\\site-packages\\torchvision\\models\\_utils.py:209: UserWarning: The parameter 'pretrained' is deprecated since 0.13 and may be removed in the future, please use 'weights' instead.\n",
      "  f\"The parameter '{pretrained_param}' is deprecated since 0.13 and may be removed in the future, \"\n",
      "D:\\anaconda\\envs\\topo_crack_detection\\lib\\site-packages\\torchvision\\models\\_utils.py:223: UserWarning: Arguments other than a weight enum or `None` for 'weights' are deprecated since 0.13 and may be removed in the future. The current behavior is equivalent to passing `weights=None`.\n",
      "  warnings.warn(msg)\n"
     ]
    },
    {
     "data": {
      "text/plain": [
       "UNet16(\n",
       "  (pool): MaxPool2d(kernel_size=2, stride=2, padding=0, dilation=1, ceil_mode=False)\n",
       "  (encoder): Sequential(\n",
       "    (0): Conv2d(3, 64, kernel_size=(3, 3), stride=(1, 1), padding=(1, 1))\n",
       "    (1): ReLU(inplace=True)\n",
       "    (2): Conv2d(64, 64, kernel_size=(3, 3), stride=(1, 1), padding=(1, 1))\n",
       "    (3): ReLU(inplace=True)\n",
       "    (4): MaxPool2d(kernel_size=2, stride=2, padding=0, dilation=1, ceil_mode=False)\n",
       "    (5): Conv2d(64, 128, kernel_size=(3, 3), stride=(1, 1), padding=(1, 1))\n",
       "    (6): ReLU(inplace=True)\n",
       "    (7): Conv2d(128, 128, kernel_size=(3, 3), stride=(1, 1), padding=(1, 1))\n",
       "    (8): ReLU(inplace=True)\n",
       "    (9): MaxPool2d(kernel_size=2, stride=2, padding=0, dilation=1, ceil_mode=False)\n",
       "    (10): Conv2d(128, 256, kernel_size=(3, 3), stride=(1, 1), padding=(1, 1))\n",
       "    (11): ReLU(inplace=True)\n",
       "    (12): Conv2d(256, 256, kernel_size=(3, 3), stride=(1, 1), padding=(1, 1))\n",
       "    (13): ReLU(inplace=True)\n",
       "    (14): Conv2d(256, 256, kernel_size=(3, 3), stride=(1, 1), padding=(1, 1))\n",
       "    (15): ReLU(inplace=True)\n",
       "    (16): MaxPool2d(kernel_size=2, stride=2, padding=0, dilation=1, ceil_mode=False)\n",
       "    (17): Conv2d(256, 512, kernel_size=(3, 3), stride=(1, 1), padding=(1, 1))\n",
       "    (18): ReLU(inplace=True)\n",
       "    (19): Conv2d(512, 512, kernel_size=(3, 3), stride=(1, 1), padding=(1, 1))\n",
       "    (20): ReLU(inplace=True)\n",
       "    (21): Conv2d(512, 512, kernel_size=(3, 3), stride=(1, 1), padding=(1, 1))\n",
       "    (22): ReLU(inplace=True)\n",
       "    (23): MaxPool2d(kernel_size=2, stride=2, padding=0, dilation=1, ceil_mode=False)\n",
       "    (24): Conv2d(512, 512, kernel_size=(3, 3), stride=(1, 1), padding=(1, 1))\n",
       "    (25): ReLU(inplace=True)\n",
       "    (26): Conv2d(512, 512, kernel_size=(3, 3), stride=(1, 1), padding=(1, 1))\n",
       "    (27): ReLU(inplace=True)\n",
       "    (28): Conv2d(512, 512, kernel_size=(3, 3), stride=(1, 1), padding=(1, 1))\n",
       "    (29): ReLU(inplace=True)\n",
       "    (30): MaxPool2d(kernel_size=2, stride=2, padding=0, dilation=1, ceil_mode=False)\n",
       "  )\n",
       "  (relu): ReLU(inplace=True)\n",
       "  (conv1): Sequential(\n",
       "    (0): Conv2d(3, 64, kernel_size=(3, 3), stride=(1, 1), padding=(1, 1))\n",
       "    (1): ReLU(inplace=True)\n",
       "    (2): Conv2d(64, 64, kernel_size=(3, 3), stride=(1, 1), padding=(1, 1))\n",
       "    (3): ReLU(inplace=True)\n",
       "  )\n",
       "  (conv2): Sequential(\n",
       "    (0): Conv2d(64, 128, kernel_size=(3, 3), stride=(1, 1), padding=(1, 1))\n",
       "    (1): ReLU(inplace=True)\n",
       "    (2): Conv2d(128, 128, kernel_size=(3, 3), stride=(1, 1), padding=(1, 1))\n",
       "    (3): ReLU(inplace=True)\n",
       "  )\n",
       "  (conv3): Sequential(\n",
       "    (0): Conv2d(128, 256, kernel_size=(3, 3), stride=(1, 1), padding=(1, 1))\n",
       "    (1): ReLU(inplace=True)\n",
       "    (2): Conv2d(256, 256, kernel_size=(3, 3), stride=(1, 1), padding=(1, 1))\n",
       "    (3): ReLU(inplace=True)\n",
       "    (4): Conv2d(256, 256, kernel_size=(3, 3), stride=(1, 1), padding=(1, 1))\n",
       "    (5): ReLU(inplace=True)\n",
       "  )\n",
       "  (conv4): Sequential(\n",
       "    (0): Conv2d(256, 512, kernel_size=(3, 3), stride=(1, 1), padding=(1, 1))\n",
       "    (1): ReLU(inplace=True)\n",
       "    (2): Conv2d(512, 512, kernel_size=(3, 3), stride=(1, 1), padding=(1, 1))\n",
       "    (3): ReLU(inplace=True)\n",
       "    (4): Conv2d(512, 512, kernel_size=(3, 3), stride=(1, 1), padding=(1, 1))\n",
       "    (5): ReLU(inplace=True)\n",
       "  )\n",
       "  (conv5): Sequential(\n",
       "    (0): Conv2d(512, 512, kernel_size=(3, 3), stride=(1, 1), padding=(1, 1))\n",
       "    (1): ReLU(inplace=True)\n",
       "    (2): Conv2d(512, 512, kernel_size=(3, 3), stride=(1, 1), padding=(1, 1))\n",
       "    (3): ReLU(inplace=True)\n",
       "    (4): Conv2d(512, 512, kernel_size=(3, 3), stride=(1, 1), padding=(1, 1))\n",
       "    (5): ReLU(inplace=True)\n",
       "  )\n",
       "  (center): DecoderBlockV2(\n",
       "    (block): Sequential(\n",
       "      (0): Interpolate()\n",
       "      (1): ConvRelu(\n",
       "        (conv): Conv2d(512, 512, kernel_size=(3, 3), stride=(1, 1), padding=(1, 1))\n",
       "        (activation): ReLU(inplace=True)\n",
       "      )\n",
       "      (2): ConvRelu(\n",
       "        (conv): Conv2d(512, 256, kernel_size=(3, 3), stride=(1, 1), padding=(1, 1))\n",
       "        (activation): ReLU(inplace=True)\n",
       "      )\n",
       "    )\n",
       "  )\n",
       "  (dec5): DecoderBlockV2(\n",
       "    (block): Sequential(\n",
       "      (0): Interpolate()\n",
       "      (1): ConvRelu(\n",
       "        (conv): Conv2d(768, 512, kernel_size=(3, 3), stride=(1, 1), padding=(1, 1))\n",
       "        (activation): ReLU(inplace=True)\n",
       "      )\n",
       "      (2): ConvRelu(\n",
       "        (conv): Conv2d(512, 256, kernel_size=(3, 3), stride=(1, 1), padding=(1, 1))\n",
       "        (activation): ReLU(inplace=True)\n",
       "      )\n",
       "    )\n",
       "  )\n",
       "  (dec4): DecoderBlockV2(\n",
       "    (block): Sequential(\n",
       "      (0): Interpolate()\n",
       "      (1): ConvRelu(\n",
       "        (conv): Conv2d(768, 512, kernel_size=(3, 3), stride=(1, 1), padding=(1, 1))\n",
       "        (activation): ReLU(inplace=True)\n",
       "      )\n",
       "      (2): ConvRelu(\n",
       "        (conv): Conv2d(512, 256, kernel_size=(3, 3), stride=(1, 1), padding=(1, 1))\n",
       "        (activation): ReLU(inplace=True)\n",
       "      )\n",
       "    )\n",
       "  )\n",
       "  (dec3): DecoderBlockV2(\n",
       "    (block): Sequential(\n",
       "      (0): Interpolate()\n",
       "      (1): ConvRelu(\n",
       "        (conv): Conv2d(512, 256, kernel_size=(3, 3), stride=(1, 1), padding=(1, 1))\n",
       "        (activation): ReLU(inplace=True)\n",
       "      )\n",
       "      (2): ConvRelu(\n",
       "        (conv): Conv2d(256, 64, kernel_size=(3, 3), stride=(1, 1), padding=(1, 1))\n",
       "        (activation): ReLU(inplace=True)\n",
       "      )\n",
       "    )\n",
       "  )\n",
       "  (dec2): DecoderBlockV2(\n",
       "    (block): Sequential(\n",
       "      (0): Interpolate()\n",
       "      (1): ConvRelu(\n",
       "        (conv): Conv2d(192, 128, kernel_size=(3, 3), stride=(1, 1), padding=(1, 1))\n",
       "        (activation): ReLU(inplace=True)\n",
       "      )\n",
       "      (2): ConvRelu(\n",
       "        (conv): Conv2d(128, 32, kernel_size=(3, 3), stride=(1, 1), padding=(1, 1))\n",
       "        (activation): ReLU(inplace=True)\n",
       "      )\n",
       "    )\n",
       "  )\n",
       "  (dec1): ConvRelu(\n",
       "    (conv): Conv2d(96, 32, kernel_size=(3, 3), stride=(1, 1), padding=(1, 1))\n",
       "    (activation): ReLU(inplace=True)\n",
       "  )\n",
       "  (final): Conv2d(32, 1, kernel_size=(1, 1), stride=(1, 1))\n",
       "  (final2): Sigmoid()\n",
       ")"
      ]
     },
     "execution_count": 5,
     "metadata": {},
     "output_type": "execute_result"
    }
   ],
   "source": [
    "test_ds=open_dataset(path2test, transform='test')   \n",
    "test_dl = DataLoader(test_ds, batch_size=1, shuffle=False)\n",
    "images_path = path2test + '/'\n",
    "# load a trained model\n",
    "model = UNet16()\n",
    "device = torch.device('cuda')\n",
    "model=model.to(device)\n",
    "model.load_state_dict(torch.load(model_path, map_location=torch.device('cuda')))\n",
    "model.train(False)\n",
    "model.eval()"
   ]
  },
  {
   "cell_type": "code",
   "execution_count": 6,
   "id": "38a61886",
   "metadata": {},
   "outputs": [
    {
     "data": {
      "text/plain": [
       "device(type='cuda')"
      ]
     },
     "execution_count": 6,
     "metadata": {},
     "output_type": "execute_result"
    }
   ],
   "source": [
    "device"
   ]
  },
  {
   "cell_type": "code",
   "execution_count": 26,
   "id": "be4eba39",
   "metadata": {},
   "outputs": [
    {
     "name": "stdout",
     "output_type": "stream",
     "text": [
      "torch.Size([1, 256, 256, 3])\n",
      "torch.Size([1, 3, 256, 256])\n",
      "MC16_S1fplr_4000_3900\n",
      "(256, 256)\n"
     ]
    }
   ],
   "source": [
    "prediction_bin = {}\n",
    "for ni, image in enumerate(test_dl):\n",
    "    if ni == 0 :\n",
    "        continue\n",
    "    print(image.permute(0, 3,  2,1).shape)\n",
    "    PIL.Image.fromarray((np.array(image.permute(0, 2,  3,1))[0]*255).astype(np.uint8)).show()\n",
    "    image = image.to(device)\n",
    "    image_size = image.size()\n",
    "    print(image_size)\n",
    "    SR = model(image)\n",
    "    SR_probs = SR\n",
    "    SR_probs_arr = SR_probs.cpu().detach().numpy()\n",
    "\n",
    "    #Threshold defined according experiments\n",
    "    #binary_result = SR_probs_arr > 6 #threshold for mse\n",
    "    #binary_result = SR_probs_arr > 2 #threshold for topo\n",
    "    #binary_result = SR_probs_arr > 2 #threshold for dice+topo\n",
    "    binary_result = SR_probs_arr #< 4 #threshold for mse+topo\n",
    "\n",
    "    #image_numpy = image.detach().numpy()\n",
    "    #image_numpy = image_numpy[0, 0, :, :]\n",
    "    image_name = test_dl.dataset.path2imgs[ni].split('/')\n",
    "    image_name = image_name[-1].split(\".\")\n",
    "    image_name = image_name[0][5:]\n",
    "    print(image_name)\n",
    "    #prediction_dm[image_name] = SR_probs_arr\n",
    "\n",
    "    corner = np.array(binary_result) # dtype='uint8'\n",
    "    print(corner[0][0].shape)\n",
    "    prediction_bin[image_name] = ((1-corner[0][0])*255).astype(np.uint8)\n",
    "    PIL.Image.fromarray(prediction_bin[image_name]).show()\n",
    "    break\n",
    "    "
   ]
  },
  {
   "cell_type": "code",
   "execution_count": null,
   "id": "8c2a7e80",
   "metadata": {},
   "outputs": [],
   "source": []
  }
 ],
 "metadata": {
  "kernelspec": {
   "display_name": "Python 3 (ipykernel)",
   "language": "python",
   "name": "python3"
  },
  "language_info": {
   "codemirror_mode": {
    "name": "ipython",
    "version": 3
   },
   "file_extension": ".py",
   "mimetype": "text/x-python",
   "name": "python",
   "nbconvert_exporter": "python",
   "pygments_lexer": "ipython3",
   "version": "3.7.16"
  }
 },
 "nbformat": 4,
 "nbformat_minor": 5
}
