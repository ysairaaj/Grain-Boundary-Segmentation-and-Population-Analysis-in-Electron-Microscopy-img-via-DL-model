{
 "cells": [
  {
   "cell_type": "code",
   "execution_count": 23,
   "id": "26e11dcd",
   "metadata": {},
   "outputs": [],
   "source": [
    "#pip install imgaug"
   ]
  },
  {
   "cell_type": "code",
   "execution_count": 1,
   "id": "c0088443",
   "metadata": {},
   "outputs": [
    {
     "name": "stderr",
     "output_type": "stream",
     "text": [
      "D:\\anaconda\\envs\\topo_crack_detection\\lib\\site-packages\\tqdm\\auto.py:21: TqdmWarning: IProgress not found. Please update jupyter and ipywidgets. See https://ipywidgets.readthedocs.io/en/stable/user_install.html\n",
      "  from .autonotebook import tqdm as notebook_tqdm\n"
     ]
    },
    {
     "ename": "ModuleNotFoundError",
     "evalue": "No module named 'torchinfo'",
     "output_type": "error",
     "traceback": [
      "\u001b[1;31m---------------------------------------------------------------------------\u001b[0m",
      "\u001b[1;31mModuleNotFoundError\u001b[0m                       Traceback (most recent call last)",
      "\u001b[1;32m~\\AppData\\Local\\Temp\\ipykernel_16900\\2666347730.py\u001b[0m in \u001b[0;36m<module>\u001b[1;34m\u001b[0m\n\u001b[0;32m      6\u001b[0m \u001b[1;33m\u001b[0m\u001b[0m\n\u001b[0;32m      7\u001b[0m \u001b[1;32mfrom\u001b[0m \u001b[0mpredict_filter_mirror_aug_overtile\u001b[0m \u001b[1;32mimport\u001b[0m \u001b[0mtopredict_filter_Mirror_Aug_overtiles\u001b[0m\u001b[1;33m\u001b[0m\u001b[1;33m\u001b[0m\u001b[0m\n\u001b[1;32m----> 8\u001b[1;33m \u001b[1;32mfrom\u001b[0m \u001b[0mpredict_tiles\u001b[0m \u001b[1;32mimport\u001b[0m \u001b[0mpredict_tiles\u001b[0m\u001b[1;33m\u001b[0m\u001b[1;33m\u001b[0m\u001b[0m\n\u001b[0m\u001b[0;32m      9\u001b[0m \u001b[1;32mfrom\u001b[0m \u001b[0mcombine_fractions\u001b[0m \u001b[1;32mimport\u001b[0m \u001b[0mcombine_fractions\u001b[0m\u001b[1;33m\u001b[0m\u001b[1;33m\u001b[0m\u001b[0m\n\u001b[0;32m     10\u001b[0m \u001b[1;32mfrom\u001b[0m \u001b[0mensemble_vote_fill\u001b[0m \u001b[1;32mimport\u001b[0m \u001b[0mensemble_vote_fill\u001b[0m\u001b[1;33m\u001b[0m\u001b[1;33m\u001b[0m\u001b[0m\n",
      "\u001b[1;32m~\\Desktop\\Proj_file\\Code_files\\Execution_Scripts\\predict_tiles.py\u001b[0m in \u001b[0;36m<module>\u001b[1;34m\u001b[0m\n\u001b[0;32m     12\u001b[0m \u001b[1;32mfrom\u001b[0m \u001b[0mConvs_Unet\u001b[0m \u001b[1;32mimport\u001b[0m \u001b[0mUNet\u001b[0m\u001b[1;33m\u001b[0m\u001b[1;33m\u001b[0m\u001b[0m\n\u001b[0;32m     13\u001b[0m \u001b[1;32mfrom\u001b[0m \u001b[0mimg_scale_trans\u001b[0m \u001b[1;32mimport\u001b[0m \u001b[0mScaling\u001b[0m\u001b[1;33m\u001b[0m\u001b[1;33m\u001b[0m\u001b[0m\n\u001b[1;32m---> 14\u001b[1;33m \u001b[1;32mfrom\u001b[0m \u001b[0mIm_seg\u001b[0m \u001b[1;32mimport\u001b[0m \u001b[0mIm_Seg\u001b[0m\u001b[1;33m\u001b[0m\u001b[1;33m\u001b[0m\u001b[0m\n\u001b[0m\u001b[0;32m     15\u001b[0m \u001b[1;32mfrom\u001b[0m \u001b[0mfinal_model\u001b[0m \u001b[1;32mimport\u001b[0m \u001b[0mIm_Seg_2\u001b[0m\u001b[1;33m\u001b[0m\u001b[1;33m\u001b[0m\u001b[0m\n\u001b[0;32m     16\u001b[0m \u001b[1;33m\u001b[0m\u001b[0m\n",
      "\u001b[1;32m~\\Desktop\\Proj_file\\Code_files\\Execution_Scripts\\Im_seg.py\u001b[0m in \u001b[0;36m<module>\u001b[1;34m\u001b[0m\n\u001b[0;32m      6\u001b[0m \u001b[1;32mimport\u001b[0m \u001b[0mos\u001b[0m\u001b[1;33m\u001b[0m\u001b[1;33m\u001b[0m\u001b[0m\n\u001b[0;32m      7\u001b[0m \u001b[1;32mimport\u001b[0m \u001b[0mnumpy\u001b[0m \u001b[1;32mas\u001b[0m \u001b[0mnp\u001b[0m\u001b[1;33m\u001b[0m\u001b[1;33m\u001b[0m\u001b[0m\n\u001b[1;32m----> 8\u001b[1;33m \u001b[1;32mfrom\u001b[0m \u001b[0mtorchinfo\u001b[0m \u001b[1;32mimport\u001b[0m \u001b[0msummary\u001b[0m\u001b[1;33m\u001b[0m\u001b[1;33m\u001b[0m\u001b[0m\n\u001b[0m\u001b[0;32m      9\u001b[0m \u001b[1;32mfrom\u001b[0m \u001b[0mtorch\u001b[0m\u001b[1;33m.\u001b[0m\u001b[0mutils\u001b[0m\u001b[1;33m.\u001b[0m\u001b[0mdata\u001b[0m\u001b[1;33m.\u001b[0m\u001b[0mdataloader\u001b[0m \u001b[1;32mimport\u001b[0m \u001b[0mDataLoader\u001b[0m\u001b[1;33m\u001b[0m\u001b[1;33m\u001b[0m\u001b[0m\n\u001b[0;32m     10\u001b[0m \u001b[1;32mfrom\u001b[0m \u001b[0mtorchvision\u001b[0m \u001b[1;32mimport\u001b[0m \u001b[0mtransforms\u001b[0m\u001b[1;33m\u001b[0m\u001b[1;33m\u001b[0m\u001b[0m\n",
      "\u001b[1;31mModuleNotFoundError\u001b[0m: No module named 'torchinfo'"
     ]
    }
   ],
   "source": [
    "#from skimage.morphology import thin\n",
    "from PIL import Image\n",
    "import numpy as np\n",
    "import os \n",
    "import time\n",
    "\n",
    "from predict_filter_mirror_aug_overtile import topredict_filter_Mirror_Aug_overtiles\n",
    "from predict_tiles import predict_tiles\n",
    "from combine_fractions import combine_fractions\n",
    "from ensemble_vote_fill import ensemble_vote_fill\n",
    "from vote_fill_thin_second import vote_fill_thin_second, border_thinning\n",
    "import reverse as reverse\n"
   ]
  },
  {
   "cell_type": "code",
   "execution_count": 2,
   "id": "4e5f0e3c",
   "metadata": {},
   "outputs": [],
   "source": [
    "run_name = 'example2' \n",
    "img_name = 'img.tif'\n",
    "dir_raw = './data/' + run_name + '/'\n",
    "\n",
    "\n",
    "# Dirs_prediction\n",
    "\n",
    "prediction_mid = './prediction/' + run_name + '/1-Mid_Results' \n",
    "prediction_final = './prediction/' + run_name + '/2-Final_Results' \n",
    "fullimg_raw = './prediction/'  + run_name+ '/0-Full/Full_raw/'\n",
    "dir_aug_full = './prediction/' + run_name + './0-Full/Full_aug/'\n"
   ]
  },
  {
   "cell_type": "code",
   "execution_count": 3,
   "id": "3f15e492",
   "metadata": {},
   "outputs": [],
   "source": [
    "#%% Model parameters\n",
    "GLOBAL = {\n",
    "    ###############\n",
    "    #Operation\n",
    "    ###############\n",
    "    'Stage_predicting' : True,\n",
    "    'shift' : False,\n",
    "    \n",
    "    #########################################\n",
    "    # Fix arguments\n",
    "    #########################################\n",
    "       \n",
    "    # Dir_Model\n",
    "    'dir_model': 'Models/final_model.pt',    \n",
    "    #Aug_dirs\n",
    "    'aug_list' : ['rt00', 'rt90', 'rt180', 'fplr', 'fpud'],\n",
    "    # 'aug_list' : ['rt00', 'rt90', 'fpud'],\n",
    "    #vote_filled_dir\n",
    "    'vote_filled_dir' : '1 - voted_filled_full',\n",
    "    # size of picture samples\n",
    "    'len_img_samples-1' : 256,\n",
    "    'len_img_samples-2' : 512,   \n",
    "    'len_img_samples-3' : 1024,\n",
    "    #Vote : if vote = 2, then one a pixel will be considered as interstice once there are two (out of five) ensemble predictions shows negative value (interstice) in that pixel\n",
    "    'vote_threshold' : 1,\n",
    "    # Interstice thinning\n",
    "    'thin_inters' : 2,\n",
    "    'thin_inters_benchmark' : 2\n",
    "    'type' : 2\n",
    "}"
   ]
  },
  {
   "cell_type": "code",
   "execution_count": 4,
   "id": "bdf0a2f3",
   "metadata": {},
   "outputs": [],
   "source": [
    "##testing"
   ]
  },
  {
   "cell_type": "code",
   "execution_count": 5,
   "id": "680bcdf4",
   "metadata": {},
   "outputs": [],
   "source": [
    "# image_sizes_dict =  topredict_filter_Mirror_Aug_overtiles(dir_raw, #  /data/example/\n",
    "#                                                               fullimg_raw, #/prediction/example/0-Full/Full_raw/\n",
    "#                                                               dir_aug_full, #'/prediction/example/0-Full/Full_aug/'\n",
    "#                                                               prediction_mid, #'/prediction/example/1-Mid_Results' \n",
    "#                                                               GLOBAL['aug_list'], #['rt00', 'rt90', 'rt180', 'fplr', 'fpud']\n",
    "#                                                               GLOBAL['len_img_samples-2'],#512\n",
    "#                                                               img_name) #'img.jpg'\n",
    "# print(\"Done!!!\")"
   ]
  },
  {
   "cell_type": "code",
   "execution_count": 6,
   "id": "cf0111a2",
   "metadata": {},
   "outputs": [],
   "source": [
    "# image_sizes_dict"
   ]
  },
  {
   "cell_type": "code",
   "execution_count": 7,
   "id": "e159c61f",
   "metadata": {},
   "outputs": [],
   "source": [
    "# predict_tiles(GLOBAL['dir_model'], #'./Tiles_512_Sigmod6CT_ep150.pth'\n",
    "#                   prediction_mid,#'/prediction/example/1-Mid_Results'\n",
    "#                   GLOBAL['aug_list'])#['rt00', 'rt90', 'rt180', 'fplr', 'fpud']\n",
    "# print(\"Done!!!\")"
   ]
  },
  {
   "cell_type": "code",
   "execution_count": 8,
   "id": "95e16b61",
   "metadata": {},
   "outputs": [],
   "source": [
    "# for k , v in image_sizes_dict.items() :\n",
    "#     image_sizes_dict[k] = image_sizes_dict[k][0]"
   ]
  },
  {
   "cell_type": "code",
   "execution_count": 9,
   "id": "b6387fc8",
   "metadata": {},
   "outputs": [],
   "source": [
    "# image_sizes_dict"
   ]
  },
  {
   "cell_type": "code",
   "execution_count": 10,
   "id": "48952628",
   "metadata": {},
   "outputs": [],
   "source": [
    "# combine_fractions(prediction_mid, #'/prediction/example/1-Mid_Results'\n",
    "#                       GLOBAL['aug_list'],#['rt00', 'rt90', 'rt180', 'fplr', 'fpud']\n",
    "#                       GLOBAL['len_img_samples-2'], #512\n",
    "#                       image_sizes_dict) # (output of (1))"
   ]
  },
  {
   "cell_type": "code",
   "execution_count": 11,
   "id": "cc98f273",
   "metadata": {},
   "outputs": [],
   "source": [
    "# ensemble_vote_fill(prediction_mid, #'/prediction/example/1-Mid_Results'\n",
    "#                        prediction_final, #'/prediction/example/2-Final_Results' \n",
    "#                        GLOBAL['aug_list'], #['rt00', 'rt90', 'rt180', 'fplr', 'fpud']\n",
    "#                        GLOBAL['vote_threshold']) #2"
   ]
  },
  {
   "cell_type": "code",
   "execution_count": 12,
   "id": "af111426",
   "metadata": {},
   "outputs": [],
   "source": [
    "#testing done"
   ]
  },
  {
   "cell_type": "code",
   "execution_count": 4,
   "id": "a2534016",
   "metadata": {},
   "outputs": [],
   "source": [
    "def create_samples_aug_predict_combine_vote_fill():\n",
    "#%% 1 - Create Samples\n",
    "    print(\"1 - preparing!!!\")\n",
    "    image_sizes_dict =  topredict_filter_Mirror_Aug_overtiles(dir_raw, #  /data/example/\n",
    "                                                              fullimg_raw, #/prediction/example/0-Full/Full_raw/\n",
    "                                                              dir_aug_full, #'/prediction/example/0-Full/Full_aug/'\n",
    "                                                              prediction_mid, #'/prediction/example/1-Mid_Results' \n",
    "                                                              GLOBAL['aug_list'], #['rt00', 'rt90', 'rt180', 'fplr', 'fpud']\n",
    "                                                              GLOBAL['len_img_samples-2'],#512\n",
    "                                                              img_name) #'img.jpg'\n",
    "    \n",
    "    \n",
    "    #%% 2 - Predicting\n",
    "    print(\"2 - predicting!!!\")\n",
    "    predict_tiles(GLOBAL['dir_model'], #'./Tiles_512_Sigmod6CT_ep150.pth'\n",
    "                  prediction_mid,#'/prediction/example/1-Mid_Results'\n",
    "                  GLOBAL['aug_list'] , GLOBAL['type'])#['rt00', 'rt90', 'rt180', 'fplr', 'fpud']\n",
    "    \n",
    "    for k , v in image_sizes_dict.items() :\n",
    "        image_sizes_dict[k] = image_sizes_dict[k][0]\n",
    "    \n",
    "    #%% 3 - Combine Fraction\n",
    "    print(\"3 - combining!!!\")\n",
    "    combine_fractions(prediction_mid, #'/prediction/example/1-Mid_Results'\n",
    "                      GLOBAL['aug_list'],#['rt00', 'rt90', 'rt180', 'fplr', 'fpud']\n",
    "                      GLOBAL['len_img_samples-2'], #512\n",
    "                      image_sizes_dict) # (output of (1))\n",
    "    \n",
    "\n",
    "    #%% 4 - Vote\n",
    "    '''\n",
    "    If vote = 2 , it means if two prediction (five) shows there should be interstice, then mark it as edge.\n",
    "    '''\n",
    "    print(\"4 - voting&post-processing!!!\")\n",
    "    ensemble_vote_fill(prediction_mid, #'/prediction/example/1-Mid_Results'\n",
    "                       prediction_final, #'/prediction/example/2-Final_Results' \n",
    "                       GLOBAL['aug_list'], #['rt00', 'rt90', 'rt180', 'fplr', 'fpud']\n",
    "                       GLOBAL['vote_threshold']) #2"
   ]
  },
  {
   "cell_type": "code",
   "execution_count": 5,
   "id": "32c8345f",
   "metadata": {
    "scrolled": true
   },
   "outputs": [
    {
     "name": "stdout",
     "output_type": "stream",
     "text": [
      "1 - preparing!!!\n"
     ]
    },
    {
     "data": {
      "application/vnd.jupyter.widget-view+json": {
       "model_id": "5e1b22188e0c4689bd9c27d0f58d1865",
       "version_major": 2,
       "version_minor": 0
      },
      "text/plain": [
       "Num_Images:   0%|          | 0/2 [00:00<?, ?it/s]"
      ]
     },
     "metadata": {},
     "output_type": "display_data"
    },
    {
     "name": "stderr",
     "output_type": "stream",
     "text": [
      "D:\\anaconda\\envs\\torch_env\\lib\\site-packages\\PIL\\Image.py:3167: DecompressionBombWarning: Image size (96657764 pixels) exceeds limit of 89478485 pixels, could be decompression bomb DOS attack.\n",
      "  warnings.warn(\n"
     ]
    },
    {
     "name": "stdout",
     "output_type": "stream",
     "text": [
      "2 - predicting!!!\n"
     ]
    },
    {
     "data": {
      "application/vnd.jupyter.widget-view+json": {
       "model_id": "4efb8dd04df2427caafd71492898204b",
       "version_major": 2,
       "version_minor": 0
      },
      "text/plain": [
       "augmentations:   0%|          | 0/5 [00:00<?, ?it/s]"
      ]
     },
     "metadata": {},
     "output_type": "display_data"
    },
    {
     "data": {
      "application/vnd.jupyter.widget-view+json": {
       "model_id": "03d21bdc28264a10875dcfd2e2247e0a",
       "version_major": 2,
       "version_minor": 0
      },
      "text/plain": [
       "Num_Image:   0%|          | 0/864 [00:00<?, ?it/s]"
      ]
     },
     "metadata": {},
     "output_type": "display_data"
    },
    {
     "data": {
      "application/vnd.jupyter.widget-view+json": {
       "model_id": "2e494832adaf494dba44cf0c84f6e10f",
       "version_major": 2,
       "version_minor": 0
      },
      "text/plain": [
       "Num_Image:   0%|          | 0/864 [00:00<?, ?it/s]"
      ]
     },
     "metadata": {},
     "output_type": "display_data"
    },
    {
     "data": {
      "application/vnd.jupyter.widget-view+json": {
       "model_id": "558e12e9bd25495eab1d92df77a46e64",
       "version_major": 2,
       "version_minor": 0
      },
      "text/plain": [
       "Num_Image:   0%|          | 0/864 [00:00<?, ?it/s]"
      ]
     },
     "metadata": {},
     "output_type": "display_data"
    },
    {
     "data": {
      "application/vnd.jupyter.widget-view+json": {
       "model_id": "f9a8e310079f4650ba03ba8ee8ebcbf7",
       "version_major": 2,
       "version_minor": 0
      },
      "text/plain": [
       "Num_Image:   0%|          | 0/864 [00:00<?, ?it/s]"
      ]
     },
     "metadata": {},
     "output_type": "display_data"
    },
    {
     "data": {
      "application/vnd.jupyter.widget-view+json": {
       "model_id": "b7cf42ef6ea04e5d964d40903f0d2ea9",
       "version_major": 2,
       "version_minor": 0
      },
      "text/plain": [
       "Num_Image:   0%|          | 0/864 [00:00<?, ?it/s]"
      ]
     },
     "metadata": {},
     "output_type": "display_data"
    },
    {
     "name": "stdout",
     "output_type": "stream",
     "text": [
      "3 - combining!!!\n"
     ]
    },
    {
     "data": {
      "application/vnd.jupyter.widget-view+json": {
       "model_id": "d4876903ff364899b83faf856459f8fb",
       "version_major": 2,
       "version_minor": 0
      },
      "text/plain": [
       "augmentations:   0%|          | 0/5 [00:00<?, ?it/s]"
      ]
     },
     "metadata": {},
     "output_type": "display_data"
    },
    {
     "name": "stdout",
     "output_type": "stream",
     "text": [
      "4 - voting&post-processing!!!\n",
      "inserting ./prediction/example2/1-Mid_Results\\rt00_pred_Full\\MC16_S1.png\n",
      "inserting ./prediction/example2/1-Mid_Results\\rt90_pred_Full\\MC16_S1.png\n",
      "inserting ./prediction/example2/1-Mid_Results\\rt180_pred_Full\\MC16_S1.png\n",
      "inserting ./prediction/example2/1-Mid_Results\\fplr_pred_Full\\MC16_S1.png\n",
      "inserting ./prediction/example2/1-Mid_Results\\fpud_pred_Full\\MC16_S1.png\n",
      "inserting ./prediction/example2/1-Mid_Results\\rt00_pred_Full\\MC16_S2.png\n",
      "inserting ./prediction/example2/1-Mid_Results\\rt90_pred_Full\\MC16_S2.png\n",
      "inserting ./prediction/example2/1-Mid_Results\\rt180_pred_Full\\MC16_S2.png\n",
      "inserting ./prediction/example2/1-Mid_Results\\fplr_pred_Full\\MC16_S2.png\n",
      "inserting ./prediction/example2/1-Mid_Results\\fpud_pred_Full\\MC16_S2.png\n",
      "6378.226342201233\n"
     ]
    }
   ],
   "source": [
    "starttime = time.time()   \n",
    "create_samples_aug_predict_combine_vote_fill()     \n",
    "endtime = time.time()\n",
    "print(endtime - starttime)"
   ]
  },
  {
   "cell_type": "code",
   "execution_count": 4,
   "id": "8ee3b296",
   "metadata": {},
   "outputs": [
    {
     "name": "stderr",
     "output_type": "stream",
     "text": [
      "D:\\anaconda\\envs\\torch_env\\lib\\site-packages\\PIL\\Image.py:3167: DecompressionBombWarning: Image size (96657764 pixels) exceeds limit of 89478485 pixels, could be decompression bomb DOS attack.\n",
      "  warnings.warn(\n"
     ]
    },
    {
     "name": "stdout",
     "output_type": "stream",
     "text": [
      "inserting ./prediction/example2/1-Mid_Results\\rt00_pred_Full\\MC16_S1.png\n",
      "inserting ./prediction/example2/1-Mid_Results\\rt90_pred_Full\\MC16_S1.png\n",
      "inserting ./prediction/example2/1-Mid_Results\\rt180_pred_Full\\MC16_S1.png\n",
      "inserting ./prediction/example2/1-Mid_Results\\fplr_pred_Full\\MC16_S1.png\n",
      "inserting ./prediction/example2/1-Mid_Results\\fpud_pred_Full\\MC16_S1.png\n",
      "inserting ./prediction/example2/1-Mid_Results\\rt00_pred_Full\\MC16_S2.png\n",
      "inserting ./prediction/example2/1-Mid_Results\\rt90_pred_Full\\MC16_S2.png\n",
      "inserting ./prediction/example2/1-Mid_Results\\rt180_pred_Full\\MC16_S2.png\n",
      "inserting ./prediction/example2/1-Mid_Results\\fplr_pred_Full\\MC16_S2.png\n",
      "inserting ./prediction/example2/1-Mid_Results\\fpud_pred_Full\\MC16_S2.png\n"
     ]
    }
   ],
   "source": [
    "ensemble_vote_fill(prediction_mid, #'/prediction/example/1-Mid_Results'\n",
    "                       prediction_final, #'/prediction/example/2-Final_Results' \n",
    "                       GLOBAL['aug_list'], #['rt00', 'rt90', 'rt180', 'fplr', 'fpud']\n",
    "                       GLOBAL['vote_threshold']) #2"
   ]
  },
  {
   "cell_type": "code",
   "execution_count": null,
   "id": "8c9b88c5",
   "metadata": {},
   "outputs": [],
   "source": []
  }
 ],
 "metadata": {
  "kernelspec": {
   "display_name": "Python 3 (ipykernel)",
   "language": "python",
   "name": "python3"
  },
  "language_info": {
   "codemirror_mode": {
    "name": "ipython",
    "version": 3
   },
   "file_extension": ".py",
   "mimetype": "text/x-python",
   "name": "python",
   "nbconvert_exporter": "python",
   "pygments_lexer": "ipython3",
   "version": "3.7.16"
  }
 },
 "nbformat": 4,
 "nbformat_minor": 5
}
