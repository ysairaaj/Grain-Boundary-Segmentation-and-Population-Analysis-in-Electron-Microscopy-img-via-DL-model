{
 "cells": [
  {
   "cell_type": "code",
   "execution_count": 16,
   "id": "cea2eb82",
   "metadata": {},
   "outputs": [],
   "source": [
    "from patch_and_stitch import PatchStitch"
   ]
  },
  {
   "cell_type": "code",
   "execution_count": 17,
   "id": "13dd1d76",
   "metadata": {},
   "outputs": [],
   "source": [
    "dd = PatchStitch()"
   ]
  },
  {
   "cell_type": "code",
   "execution_count": 18,
   "id": "a6b5c09e",
   "metadata": {},
   "outputs": [
    {
     "name": "stderr",
     "output_type": "stream",
     "text": [
      "D:\\anaconda\\envs\\torch_env\\lib\\site-packages\\PIL\\Image.py:3167: DecompressionBombWarning: Image size (96657764 pixels) exceeds limit of 89478485 pixels, could be decompression bomb DOS attack.\n",
      "  warnings.warn(\n"
     ]
    }
   ],
   "source": [
    "import os\n",
    "import PIL.Image\n",
    "path = \"./post_processed/mse+topo_high_disconn/\"\n",
    "#path = \"./prediction/bce_benchmark/2-Final_Results/\"\n",
    "path2 = \"./data/example9/MC16_S1/\"\n",
    "#path2 = \"./prediction/bce_benchmark/0-Full/Full_raw/img0/\"\n",
    "#imgs = os.listdir(path)\n",
    "pics = []\n",
    "#for img in imgs :\n",
    "#    pics.append((PIL.Image.open(path + img) , PIL.Image.open(path2 + \"img0.tif\")) )   \n",
    "#    break\n",
    "\n",
    "pics.append((PIL.Image.open(path + \"MC16_S1.png\") , PIL.Image.open(path2 + \"img0.tif\")))"
   ]
  },
  {
   "cell_type": "code",
   "execution_count": 19,
   "id": "5963775f",
   "metadata": {},
   "outputs": [
    {
     "data": {
      "text/plain": [
       "[(<PIL.PngImagePlugin.PngImageFile image mode=RGB size=11692x8267>,\n",
       "  <PIL.TiffImagePlugin.TiffImageFile image mode=RGBA size=11692x8267>)]"
      ]
     },
     "execution_count": 19,
     "metadata": {},
     "output_type": "execute_result"
    }
   ],
   "source": [
    "pics"
   ]
  },
  {
   "cell_type": "code",
   "execution_count": 20,
   "id": "2b88295e",
   "metadata": {},
   "outputs": [],
   "source": [
    "pic = pics[0][0]"
   ]
  },
  {
   "cell_type": "code",
   "execution_count": 6,
   "id": "8bf70f97",
   "metadata": {},
   "outputs": [],
   "source": [
    "pic.show()"
   ]
  },
  {
   "cell_type": "code",
   "execution_count": 21,
   "id": "315273f6",
   "metadata": {},
   "outputs": [
    {
     "name": "stdout",
     "output_type": "stream",
     "text": [
      "patched\n"
     ]
    }
   ],
   "source": [
    "dd.patch(pic , (5500 , 5500) ,\"./final_output/mask\" , \"pic\")"
   ]
  },
  {
   "cell_type": "code",
   "execution_count": 22,
   "id": "7f13aa05",
   "metadata": {},
   "outputs": [],
   "source": [
    "dd1 = PatchStitch()"
   ]
  },
  {
   "cell_type": "code",
   "execution_count": 23,
   "id": "b0ef42d9",
   "metadata": {},
   "outputs": [],
   "source": [
    "pic1 = pics[0][1]"
   ]
  },
  {
   "cell_type": "code",
   "execution_count": 10,
   "id": "0ce76421",
   "metadata": {},
   "outputs": [],
   "source": [
    "pic1.show()"
   ]
  },
  {
   "cell_type": "code",
   "execution_count": 24,
   "id": "9fdf9e0f",
   "metadata": {},
   "outputs": [
    {
     "name": "stdout",
     "output_type": "stream",
     "text": [
      "patched\n"
     ]
    }
   ],
   "source": [
    "dd1.patch(pic1 , (5500 , 5500) ,\"./final_output/image\" , \"pic\")"
   ]
  },
  {
   "cell_type": "code",
   "execution_count": 5,
   "id": "b0f8116d",
   "metadata": {},
   "outputs": [],
   "source": [
    "from grain_identification import *"
   ]
  },
  {
   "cell_type": "code",
   "execution_count": 6,
   "id": "3bde520a",
   "metadata": {},
   "outputs": [],
   "source": [
    "pic1 = np.array(pic1)\n",
    "pic = np.array(pic)"
   ]
  },
  {
   "cell_type": "code",
   "execution_count": 7,
   "id": "8db562d5",
   "metadata": {},
   "outputs": [],
   "source": [
    "pic1 = pic1[:,:,0:3]\n"
   ]
  },
  {
   "cell_type": "code",
   "execution_count": 8,
   "id": "3bf6012d",
   "metadata": {},
   "outputs": [
    {
     "data": {
      "text/plain": [
       "((8267, 11692, 3), (8267, 11692, 3))"
      ]
     },
     "execution_count": 8,
     "metadata": {},
     "output_type": "execute_result"
    }
   ],
   "source": [
    "pic.shape , pic1.shape"
   ]
  },
  {
   "cell_type": "code",
   "execution_count": 16,
   "id": "918fba90",
   "metadata": {
    "scrolled": true
   },
   "outputs": [
    {
     "data": {
      "text/plain": [
       "array([[[  0,   0,   0],\n",
       "        [  0,   0,   0],\n",
       "        [  0,   0,   0],\n",
       "        ...,\n",
       "        [255, 255, 255],\n",
       "        [255, 255, 255],\n",
       "        [255, 255, 255]],\n",
       "\n",
       "       [[  0,   0,   0],\n",
       "        [  0,   0,   0],\n",
       "        [  0,   0,   0],\n",
       "        ...,\n",
       "        [255, 255, 255],\n",
       "        [255, 255, 255],\n",
       "        [255, 255, 255]],\n",
       "\n",
       "       [[  0,   0,   0],\n",
       "        [  0,   0,   0],\n",
       "        [  0,   0,   0],\n",
       "        ...,\n",
       "        [255, 255, 255],\n",
       "        [255, 255, 255],\n",
       "        [255, 255, 255]],\n",
       "\n",
       "       ...,\n",
       "\n",
       "       [[255, 255, 255],\n",
       "        [255, 255, 255],\n",
       "        [255, 255, 255],\n",
       "        ...,\n",
       "        [  0,   0,   0],\n",
       "        [  0,   0,   0],\n",
       "        [  0,   0,   0]],\n",
       "\n",
       "       [[255, 255, 255],\n",
       "        [255, 255, 255],\n",
       "        [255, 255, 255],\n",
       "        ...,\n",
       "        [  0,   0,   0],\n",
       "        [  0,   0,   0],\n",
       "        [  0,   0,   0]],\n",
       "\n",
       "       [[255, 255, 255],\n",
       "        [255, 255, 255],\n",
       "        [255, 255, 255],\n",
       "        ...,\n",
       "        [  0,   0,   0],\n",
       "        [  0,   0,   0],\n",
       "        [  0,   0,   0]]], dtype=uint8)"
      ]
     },
     "execution_count": 16,
     "metadata": {},
     "output_type": "execute_result"
    }
   ],
   "source": [
    "pic"
   ]
  },
  {
   "cell_type": "code",
   "execution_count": 17,
   "id": "47ccf276",
   "metadata": {
    "scrolled": true
   },
   "outputs": [
    {
     "data": {
      "text/plain": [
       "array([[[255, 255, 255],\n",
       "        [255, 255, 255],\n",
       "        [255, 255, 255],\n",
       "        ...,\n",
       "        [255, 255, 255],\n",
       "        [255, 255, 255],\n",
       "        [255, 255, 255]],\n",
       "\n",
       "       [[255, 255, 255],\n",
       "        [255, 255, 255],\n",
       "        [255, 255, 255],\n",
       "        ...,\n",
       "        [255, 255, 255],\n",
       "        [255, 255, 255],\n",
       "        [255, 255, 255]],\n",
       "\n",
       "       [[255, 255, 255],\n",
       "        [255, 255, 255],\n",
       "        [255, 255, 255],\n",
       "        ...,\n",
       "        [255, 255, 255],\n",
       "        [255, 255, 255],\n",
       "        [255, 255, 255]],\n",
       "\n",
       "       ...,\n",
       "\n",
       "       [[ 41,  54,  60],\n",
       "        [ 40,  53,  59],\n",
       "        [ 40,  53,  59],\n",
       "        ...,\n",
       "        [226, 228, 227],\n",
       "        [226, 228, 227],\n",
       "        [237, 239, 238]],\n",
       "\n",
       "       [[ 44,  57,  65],\n",
       "        [ 42,  55,  61],\n",
       "        [ 42,  55,  61],\n",
       "        ...,\n",
       "        [233, 237, 236],\n",
       "        [233, 237, 236],\n",
       "        [234, 236, 235]],\n",
       "\n",
       "       [[ 44,  57,  65],\n",
       "        [ 42,  55,  61],\n",
       "        [ 42,  55,  61],\n",
       "        ...,\n",
       "        [233, 237, 236],\n",
       "        [233, 237, 236],\n",
       "        [234, 236, 235]]], dtype=uint8)"
      ]
     },
     "execution_count": 17,
     "metadata": {},
     "output_type": "execute_result"
    }
   ],
   "source": [
    "pic1"
   ]
  },
  {
   "cell_type": "code",
   "execution_count": 18,
   "id": "ec63d48b",
   "metadata": {},
   "outputs": [
    {
     "data": {
      "text/plain": [
       "(96657764, 3)"
      ]
     },
     "execution_count": 18,
     "metadata": {},
     "output_type": "execute_result"
    }
   ],
   "source": [
    "np.vstack(pic).shape"
   ]
  },
  {
   "cell_type": "code",
   "execution_count": 19,
   "id": "e302359a",
   "metadata": {},
   "outputs": [
    {
     "data": {
      "text/plain": [
       "(96657764, 3)"
      ]
     },
     "execution_count": 19,
     "metadata": {},
     "output_type": "execute_result"
    }
   ],
   "source": [
    "np.vstack(pic1).shape"
   ]
  },
  {
   "cell_type": "code",
   "execution_count": 9,
   "id": "a672b5ba",
   "metadata": {},
   "outputs": [
    {
     "name": "stdout",
     "output_type": "stream",
     "text": [
      "96657764 96657764 76316367\n"
     ]
    }
   ],
   "source": [
    "arr = np.vstack(pic1)\n",
    "arr1 = np.vstack(pic)\n",
    "new_arr = [arr[i] for i in range(len(arr)) if tuple(arr1[i]) != (0 ,0 ,0)]\n",
    "print(len(arr) , len(arr1) , len(new_arr))"
   ]
  },
  {
   "cell_type": "code",
   "execution_count": 10,
   "id": "dd330a71",
   "metadata": {},
   "outputs": [],
   "source": [
    "del arr"
   ]
  },
  {
   "cell_type": "code",
   "execution_count": 11,
   "id": "4b4a22bd",
   "metadata": {},
   "outputs": [],
   "source": [
    "del arr1"
   ]
  },
  {
   "cell_type": "code",
   "execution_count": 12,
   "id": "110c980b",
   "metadata": {},
   "outputs": [
    {
     "data": {
      "text/plain": [
       "76316367"
      ]
     },
     "execution_count": 12,
     "metadata": {},
     "output_type": "execute_result"
    }
   ],
   "source": [
    "len(new_arr)"
   ]
  },
  {
   "cell_type": "code",
   "execution_count": 13,
   "id": "1c213150",
   "metadata": {},
   "outputs": [],
   "source": []
  },
  {
   "cell_type": "code",
   "execution_count": 13,
   "id": "f06d80fb",
   "metadata": {},
   "outputs": [],
   "source": [
    "from sklearn.cluster import KMeans\n",
    "color = [[255 , 0 , 0] , [0,255,0] , [0 , 0 ,255]]\n",
    "def image_process(k,color , train_data ,loc1 = \"./final_output/mask\" , loc2 = \"./final_output/image\" , final_loc = \"./final_output/output\") :\n",
    "    maps  = sorted(os.listdir(loc1))\n",
    "    imgs = sorted(os.listdir(loc2))\n",
    "    print(\"Fitting clustering model\")\n",
    "    kmeans = KMeans(n_clusters=k, random_state=0, n_init=\"auto\").fit(train_data)\n",
    "    del train_data\n",
    "    for i ,name in enumerate(maps) :\n",
    "        if i < 3 :\n",
    "            continue\n",
    "        print(f\"processing {name}\")\n",
    "        map_ = PIL.Image.open(loc1 + '/' + name)\n",
    "        img_ = PIL.Image.open(loc2 + '/' + name)\n",
    "        print(\"getting connected comps\")\n",
    "        dic = get_conn_comps(map_ , img_)\n",
    "        print(\"getting vector median\")\n",
    "        map_new = get_vec_median(dic)\n",
    "        print(\"getting clusters\")\n",
    "        ans = get_clusters(map_new , k , fit_model = kmeans)\n",
    "        out_map = get_img_clusters(map_ , ans , dic , colors = color[:k])\n",
    "        print(\"saving\")\n",
    "        out_map.save(final_loc + '/' + name)\n",
    "    \n",
    "    print(\"DONE\")\n",
    "    \n",
    "    return "
   ]
  },
  {
   "cell_type": "code",
   "execution_count": 15,
   "id": "18ef0c17",
   "metadata": {
    "scrolled": true
   },
   "outputs": [
    {
     "name": "stdout",
     "output_type": "stream",
     "text": [
      "Fitting clustering model\n",
      "processing 5500_0.png\n",
      "getting connected comps\n",
      "(2767, 5500)\n",
      "getting vector median\n"
     ]
    },
    {
     "name": "stderr",
     "output_type": "stream",
     "text": [
      "D:\\Proj_file\\Code_files\\Execution_Scripts\\grain_identification.py:55: RuntimeWarning: overflow encountered in scalar subtract\n",
      "  return math.sqrt((val1[0] - val2[0])**2 + (val1[1] - val2[1])**2 + (val1[2] - val2[2])**2)\n"
     ]
    },
    {
     "name": "stdout",
     "output_type": "stream",
     "text": [
      "getting clusters\n",
      "saving\n",
      "processing 5500_11000.png\n",
      "getting connected comps\n",
      "(2767, 692)\n",
      "getting vector median\n"
     ]
    },
    {
     "name": "stderr",
     "output_type": "stream",
     "text": [
      "D:\\Proj_file\\Code_files\\Execution_Scripts\\grain_identification.py:55: RuntimeWarning: overflow encountered in scalar subtract\n",
      "  return math.sqrt((val1[0] - val2[0])**2 + (val1[1] - val2[1])**2 + (val1[2] - val2[2])**2)\n"
     ]
    },
    {
     "name": "stdout",
     "output_type": "stream",
     "text": [
      "getting clusters\n",
      "saving\n",
      "processing 5500_5500.png\n",
      "getting connected comps\n",
      "(2767, 5500)\n",
      "getting vector median\n"
     ]
    },
    {
     "name": "stderr",
     "output_type": "stream",
     "text": [
      "D:\\Proj_file\\Code_files\\Execution_Scripts\\grain_identification.py:55: RuntimeWarning: overflow encountered in scalar subtract\n",
      "  return math.sqrt((val1[0] - val2[0])**2 + (val1[1] - val2[1])**2 + (val1[2] - val2[2])**2)\n"
     ]
    },
    {
     "name": "stdout",
     "output_type": "stream",
     "text": [
      "getting clusters\n",
      "saving\n",
      "DONE\n"
     ]
    }
   ],
   "source": [
    "image_process(3 , color , new_arr)"
   ]
  },
  {
   "cell_type": "code",
   "execution_count": 25,
   "id": "cf53899e",
   "metadata": {},
   "outputs": [
    {
     "name": "stdout",
     "output_type": "stream",
     "text": [
      "DONE\n"
     ]
    }
   ],
   "source": [
    "dd.stitch(\"./final_output/stitch\")"
   ]
  },
  {
   "cell_type": "code",
   "execution_count": null,
   "id": "03985083",
   "metadata": {},
   "outputs": [],
   "source": []
  }
 ],
 "metadata": {
  "kernelspec": {
   "display_name": "Python 3 (ipykernel)",
   "language": "python",
   "name": "python3"
  },
  "language_info": {
   "codemirror_mode": {
    "name": "ipython",
    "version": 3
   },
   "file_extension": ".py",
   "mimetype": "text/x-python",
   "name": "python",
   "nbconvert_exporter": "python",
   "pygments_lexer": "ipython3",
   "version": "3.10.11"
  }
 },
 "nbformat": 4,
 "nbformat_minor": 5
}
