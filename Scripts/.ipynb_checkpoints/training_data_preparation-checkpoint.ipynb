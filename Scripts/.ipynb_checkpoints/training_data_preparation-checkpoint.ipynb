{
 "cells": [
  {
   "cell_type": "code",
   "execution_count": 1,
   "id": "8026ccad",
   "metadata": {},
   "outputs": [],
   "source": [
    "import torch\n",
    "import torch.nn as nn\n",
    "import torch.nn.functional as F\n",
    "from PIL import Image\n",
    "from torchvision import transforms\n",
    "import os\n",
    "import numpy as np\n",
    "from torchinfo import summary"
   ]
  },
  {
   "cell_type": "code",
   "execution_count": 2,
   "id": "7ea39a47",
   "metadata": {},
   "outputs": [],
   "source": [
    "from Convs_Unet import UNet"
   ]
  },
  {
   "cell_type": "code",
   "execution_count": 3,
   "id": "ce1a9f06",
   "metadata": {},
   "outputs": [
    {
     "name": "stdout",
     "output_type": "stream",
     "text": [
      "Loading Unet model\n",
      "Using device cuda\n",
      "model loaded\n"
     ]
    }
   ],
   "source": [
    "model = UNet(n_channels = 3 , n_classes = 1)\n",
    "print(\"Loading Unet model\")\n",
    "device = torch.device('cuda' if torch.cuda.is_available() else 'cpu')\n",
    "print(f\"Using device {device}\")\n",
    "model.to(device=device)\n",
    "model.load_state_dict(torch.load(\"../Tiles_512_Sigmod6CT_ep150.pth\", map_location=device))\n",
    "print(\"model loaded\")"
   ]
  },
  {
   "cell_type": "code",
   "execution_count": 4,
   "id": "74baedfb",
   "metadata": {},
   "outputs": [],
   "source": [
    "#pip install torchinfo"
   ]
  },
  {
   "cell_type": "code",
   "execution_count": 5,
   "id": "22722db3",
   "metadata": {},
   "outputs": [
    {
     "data": {
      "text/plain": [
       "===============================================================================================\n",
       "Layer (type:depth-idx)                        Output Shape              Param #\n",
       "===============================================================================================\n",
       "UNet                                          [4, 1, 512, 512]          --\n",
       "├─DoubleConv: 1-1                             [4, 64, 512, 512]         --\n",
       "│    └─Sequential: 2-1                        [4, 64, 512, 512]         --\n",
       "│    │    └─Conv2d: 3-1                       [4, 64, 512, 512]         1,792\n",
       "│    │    └─BatchNorm2d: 3-2                  [4, 64, 512, 512]         128\n",
       "│    │    └─ReLU: 3-3                         [4, 64, 512, 512]         --\n",
       "│    │    └─Conv2d: 3-4                       [4, 64, 512, 512]         36,928\n",
       "│    │    └─BatchNorm2d: 3-5                  [4, 64, 512, 512]         128\n",
       "│    │    └─ReLU: 3-6                         [4, 64, 512, 512]         --\n",
       "├─DownConv: 1-2                               [4, 128, 256, 256]        --\n",
       "│    └─Sequential: 2-2                        [4, 128, 256, 256]        --\n",
       "│    │    └─MaxPool2d: 3-7                    [4, 64, 256, 256]         --\n",
       "│    │    └─DoubleConv: 3-8                   [4, 128, 256, 256]        221,952\n",
       "├─DownConv: 1-3                               [4, 256, 128, 128]        --\n",
       "│    └─Sequential: 2-3                        [4, 256, 128, 128]        --\n",
       "│    │    └─MaxPool2d: 3-9                    [4, 128, 128, 128]        --\n",
       "│    │    └─DoubleConv: 3-10                  [4, 256, 128, 128]        886,272\n",
       "├─DownConv: 1-4                               [4, 512, 64, 64]          --\n",
       "│    └─Sequential: 2-4                        [4, 512, 64, 64]          --\n",
       "│    │    └─MaxPool2d: 3-11                   [4, 256, 64, 64]          --\n",
       "│    │    └─DoubleConv: 3-12                  [4, 512, 64, 64]          3,542,016\n",
       "├─DownConv: 1-5                               [4, 512, 32, 32]          --\n",
       "│    └─Sequential: 2-5                        [4, 512, 32, 32]          --\n",
       "│    │    └─MaxPool2d: 3-13                   [4, 512, 32, 32]          --\n",
       "│    │    └─DoubleConv: 3-14                  [4, 512, 32, 32]          4,721,664\n",
       "├─UpConv: 1-6                                 [4, 256, 64, 64]          --\n",
       "│    └─Upsample: 2-6                          [4, 512, 64, 64]          --\n",
       "│    └─DoubleConv: 2-7                        [4, 256, 64, 64]          --\n",
       "│    │    └─Sequential: 3-15                  [4, 256, 64, 64]          5,900,544\n",
       "├─UpConv: 1-7                                 [4, 128, 128, 128]        --\n",
       "│    └─Upsample: 2-8                          [4, 256, 128, 128]        --\n",
       "│    └─DoubleConv: 2-9                        [4, 128, 128, 128]        --\n",
       "│    │    └─Sequential: 3-16                  [4, 128, 128, 128]        1,475,712\n",
       "├─UpConv: 1-8                                 [4, 64, 256, 256]         --\n",
       "│    └─Upsample: 2-10                         [4, 128, 256, 256]        --\n",
       "│    └─DoubleConv: 2-11                       [4, 64, 256, 256]         --\n",
       "│    │    └─Sequential: 3-17                  [4, 64, 256, 256]         369,216\n",
       "├─UpConv: 1-9                                 [4, 64, 512, 512]         --\n",
       "│    └─Upsample: 2-12                         [4, 64, 512, 512]         --\n",
       "│    └─DoubleConv: 2-13                       [4, 64, 512, 512]         --\n",
       "│    │    └─Sequential: 3-18                  [4, 64, 512, 512]         110,976\n",
       "├─OutConv: 1-10                               [4, 1, 512, 512]          --\n",
       "│    └─Conv2d: 2-14                           [4, 1, 512, 512]          65\n",
       "===============================================================================================\n",
       "Total params: 17,267,393\n",
       "Trainable params: 17,267,393\n",
       "Non-trainable params: 0\n",
       "Total mult-adds (G): 640.16\n",
       "===============================================================================================\n",
       "Input size (MB): 12.58\n",
       "Forward/backward pass size (MB): 7658.80\n",
       "Params size (MB): 69.07\n",
       "Estimated Total Size (MB): 7740.45\n",
       "==============================================================================================="
      ]
     },
     "execution_count": 5,
     "metadata": {},
     "output_type": "execute_result"
    }
   ],
   "source": [
    "summary(model , input_size = (4,3,512,512))"
   ]
  },
  {
   "cell_type": "code",
   "execution_count": null,
   "id": "f8946a1c",
   "metadata": {},
   "outputs": [],
   "source": [
    "def train_model(model , )"
   ]
  }
 ],
 "metadata": {
  "kernelspec": {
   "display_name": "Python 3 (ipykernel)",
   "language": "python",
   "name": "python3"
  },
  "language_info": {
   "codemirror_mode": {
    "name": "ipython",
    "version": 3
   },
   "file_extension": ".py",
   "mimetype": "text/x-python",
   "name": "python",
   "nbconvert_exporter": "python",
   "pygments_lexer": "ipython3",
   "version": "3.10.11"
  }
 },
 "nbformat": 4,
 "nbformat_minor": 5
}
