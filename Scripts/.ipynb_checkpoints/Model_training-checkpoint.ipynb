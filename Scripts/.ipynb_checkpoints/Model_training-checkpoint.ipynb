{
 "cells": [
  {
   "cell_type": "code",
   "execution_count": 3,
   "id": "d4edc5fc",
   "metadata": {},
   "outputs": [],
   "source": [
    "import torch\n",
    "import torch.nn as nn\n",
    "import torch.nn.functional as F\n",
    "from PIL import Image\n",
    "from torchvision import transforms\n",
    "import os\n",
    "import numpy as np\n",
    "from torchinfo import summary\n",
    "from torch.utils.data.dataloader import DataLoader\n",
    "#from torch.data import random_split\n",
    "from torchvision import transforms\n",
    "from Convs_Unet import UNet"
   ]
  },
  {
   "cell_type": "code",
   "execution_count": 2,
   "id": "d43d2b48",
   "metadata": {},
   "outputs": [
    {
     "name": "stdout",
     "output_type": "stream",
     "text": [
      "3.10.11\n"
     ]
    }
   ],
   "source": [
    "from platform import python_version\n",
    "\n",
    "print(python_version())"
   ]
  },
  {
   "cell_type": "code",
   "execution_count": 3,
   "id": "7e75e5cf",
   "metadata": {},
   "outputs": [],
   "source": [
    "from torch.utils.data import random_split"
   ]
  },
  {
   "cell_type": "code",
   "execution_count": 4,
   "id": "b06235cc",
   "metadata": {},
   "outputs": [],
   "source": [
    "#pip install tqdm \n",
    "\n"
   ]
  },
  {
   "cell_type": "code",
   "execution_count": 4,
   "id": "75101f60",
   "metadata": {},
   "outputs": [],
   "source": [
    "from tqdm.notebook import trange, tqdm"
   ]
  },
  {
   "cell_type": "code",
   "execution_count": 8,
   "id": "e71fc5a3",
   "metadata": {},
   "outputs": [
    {
     "name": "stdout",
     "output_type": "stream",
     "text": [
      "Loading Unet model\n",
      "Using device cuda\n",
      "model loaded\n"
     ]
    }
   ],
   "source": [
    "model = UNet(n_channels = 3 , n_classes = 1)\n",
    "print(\"Loading Unet model\")\n",
    "device = torch.device('cuda' if torch.cuda.is_available() else 'cpu')\n",
    "print(f\"Using device {device}\")\n",
    "model.to(device=device)\n",
    "model.load_state_dict(torch.load(\"../Tiles_512_Sigmod6CT_ep150.pth\", map_location=device))\n",
    "print(\"model loaded\")"
   ]
  },
  {
   "cell_type": "code",
   "execution_count": 18,
   "id": "ab85cce4",
   "metadata": {},
   "outputs": [],
   "source": [
    "trainable = {\"inc\" : False , \"down1\" : False}\n"
   ]
  },
  {
   "cell_type": "code",
   "execution_count": 19,
   "id": "7403d056",
   "metadata": {},
   "outputs": [],
   "source": [
    "for k in model.named_parameters():\n",
    "    k[1].requires_grad = False if k[0].split(\".\")[0] in trainable else True"
   ]
  },
  {
   "cell_type": "code",
   "execution_count": 11,
   "id": "5a3d568e",
   "metadata": {
    "scrolled": true
   },
   "outputs": [
    {
     "name": "stdout",
     "output_type": "stream",
     "text": [
      "inc.double_conv.0.weight  :  torch.Size([64, 3, 3, 3])  :  False\n",
      "inc.double_conv.0.bias  :  torch.Size([64])  :  False\n",
      "inc.double_conv.1.weight  :  torch.Size([64])  :  False\n",
      "inc.double_conv.1.bias  :  torch.Size([64])  :  False\n",
      "inc.double_conv.3.weight  :  torch.Size([64, 64, 3, 3])  :  False\n",
      "inc.double_conv.3.bias  :  torch.Size([64])  :  False\n",
      "inc.double_conv.4.weight  :  torch.Size([64])  :  False\n",
      "inc.double_conv.4.bias  :  torch.Size([64])  :  False\n",
      "down1.maxpool_conv.1.double_conv.0.weight  :  torch.Size([128, 64, 3, 3])  :  False\n",
      "down1.maxpool_conv.1.double_conv.0.bias  :  torch.Size([128])  :  False\n",
      "down1.maxpool_conv.1.double_conv.1.weight  :  torch.Size([128])  :  False\n",
      "down1.maxpool_conv.1.double_conv.1.bias  :  torch.Size([128])  :  False\n",
      "down1.maxpool_conv.1.double_conv.3.weight  :  torch.Size([128, 128, 3, 3])  :  False\n",
      "down1.maxpool_conv.1.double_conv.3.bias  :  torch.Size([128])  :  False\n",
      "down1.maxpool_conv.1.double_conv.4.weight  :  torch.Size([128])  :  False\n",
      "down1.maxpool_conv.1.double_conv.4.bias  :  torch.Size([128])  :  False\n",
      "down2.maxpool_conv.1.double_conv.0.weight  :  torch.Size([256, 128, 3, 3])  :  True\n",
      "down2.maxpool_conv.1.double_conv.0.bias  :  torch.Size([256])  :  True\n",
      "down2.maxpool_conv.1.double_conv.1.weight  :  torch.Size([256])  :  True\n",
      "down2.maxpool_conv.1.double_conv.1.bias  :  torch.Size([256])  :  True\n",
      "down2.maxpool_conv.1.double_conv.3.weight  :  torch.Size([256, 256, 3, 3])  :  True\n",
      "down2.maxpool_conv.1.double_conv.3.bias  :  torch.Size([256])  :  True\n",
      "down2.maxpool_conv.1.double_conv.4.weight  :  torch.Size([256])  :  True\n",
      "down2.maxpool_conv.1.double_conv.4.bias  :  torch.Size([256])  :  True\n",
      "down3.maxpool_conv.1.double_conv.0.weight  :  torch.Size([512, 256, 3, 3])  :  True\n",
      "down3.maxpool_conv.1.double_conv.0.bias  :  torch.Size([512])  :  True\n",
      "down3.maxpool_conv.1.double_conv.1.weight  :  torch.Size([512])  :  True\n",
      "down3.maxpool_conv.1.double_conv.1.bias  :  torch.Size([512])  :  True\n",
      "down3.maxpool_conv.1.double_conv.3.weight  :  torch.Size([512, 512, 3, 3])  :  True\n",
      "down3.maxpool_conv.1.double_conv.3.bias  :  torch.Size([512])  :  True\n",
      "down3.maxpool_conv.1.double_conv.4.weight  :  torch.Size([512])  :  True\n",
      "down3.maxpool_conv.1.double_conv.4.bias  :  torch.Size([512])  :  True\n",
      "down4.maxpool_conv.1.double_conv.0.weight  :  torch.Size([512, 512, 3, 3])  :  True\n",
      "down4.maxpool_conv.1.double_conv.0.bias  :  torch.Size([512])  :  True\n",
      "down4.maxpool_conv.1.double_conv.1.weight  :  torch.Size([512])  :  True\n",
      "down4.maxpool_conv.1.double_conv.1.bias  :  torch.Size([512])  :  True\n",
      "down4.maxpool_conv.1.double_conv.3.weight  :  torch.Size([512, 512, 3, 3])  :  True\n",
      "down4.maxpool_conv.1.double_conv.3.bias  :  torch.Size([512])  :  True\n",
      "down4.maxpool_conv.1.double_conv.4.weight  :  torch.Size([512])  :  True\n",
      "down4.maxpool_conv.1.double_conv.4.bias  :  torch.Size([512])  :  True\n",
      "up1.conv.double_conv.0.weight  :  torch.Size([512, 1024, 3, 3])  :  True\n",
      "up1.conv.double_conv.0.bias  :  torch.Size([512])  :  True\n",
      "up1.conv.double_conv.1.weight  :  torch.Size([512])  :  True\n",
      "up1.conv.double_conv.1.bias  :  torch.Size([512])  :  True\n",
      "up1.conv.double_conv.3.weight  :  torch.Size([256, 512, 3, 3])  :  True\n",
      "up1.conv.double_conv.3.bias  :  torch.Size([256])  :  True\n",
      "up1.conv.double_conv.4.weight  :  torch.Size([256])  :  True\n",
      "up1.conv.double_conv.4.bias  :  torch.Size([256])  :  True\n",
      "up2.conv.double_conv.0.weight  :  torch.Size([256, 512, 3, 3])  :  True\n",
      "up2.conv.double_conv.0.bias  :  torch.Size([256])  :  True\n",
      "up2.conv.double_conv.1.weight  :  torch.Size([256])  :  True\n",
      "up2.conv.double_conv.1.bias  :  torch.Size([256])  :  True\n",
      "up2.conv.double_conv.3.weight  :  torch.Size([128, 256, 3, 3])  :  True\n",
      "up2.conv.double_conv.3.bias  :  torch.Size([128])  :  True\n",
      "up2.conv.double_conv.4.weight  :  torch.Size([128])  :  True\n",
      "up2.conv.double_conv.4.bias  :  torch.Size([128])  :  True\n",
      "up3.conv.double_conv.0.weight  :  torch.Size([128, 256, 3, 3])  :  True\n",
      "up3.conv.double_conv.0.bias  :  torch.Size([128])  :  True\n",
      "up3.conv.double_conv.1.weight  :  torch.Size([128])  :  True\n",
      "up3.conv.double_conv.1.bias  :  torch.Size([128])  :  True\n",
      "up3.conv.double_conv.3.weight  :  torch.Size([64, 128, 3, 3])  :  True\n",
      "up3.conv.double_conv.3.bias  :  torch.Size([64])  :  True\n",
      "up3.conv.double_conv.4.weight  :  torch.Size([64])  :  True\n",
      "up3.conv.double_conv.4.bias  :  torch.Size([64])  :  True\n",
      "up4.conv.double_conv.0.weight  :  torch.Size([64, 128, 3, 3])  :  True\n",
      "up4.conv.double_conv.0.bias  :  torch.Size([64])  :  True\n",
      "up4.conv.double_conv.1.weight  :  torch.Size([64])  :  True\n",
      "up4.conv.double_conv.1.bias  :  torch.Size([64])  :  True\n",
      "up4.conv.double_conv.3.weight  :  torch.Size([64, 64, 3, 3])  :  True\n",
      "up4.conv.double_conv.3.bias  :  torch.Size([64])  :  True\n",
      "up4.conv.double_conv.4.weight  :  torch.Size([64])  :  True\n",
      "up4.conv.double_conv.4.bias  :  torch.Size([64])  :  True\n",
      "outc.conv.weight  :  torch.Size([1, 64, 1, 1])  :  True\n",
      "outc.conv.bias  :  torch.Size([1])  :  True\n"
     ]
    }
   ],
   "source": [
    "for k in model.named_parameters():\n",
    "    print(k[0] ,\" : \", k[1].shape , \" : \" , k[1].requires_grad)"
   ]
  },
  {
   "cell_type": "code",
   "execution_count": 12,
   "id": "29cf2e25",
   "metadata": {
    "scrolled": true
   },
   "outputs": [
    {
     "data": {
      "text/plain": [
       "======================================================================\n",
       "Layer (type:depth-idx)                        Param #\n",
       "======================================================================\n",
       "UNet                                          --\n",
       "├─DoubleConv: 1-1                             --\n",
       "│    └─Sequential: 2-1                        --\n",
       "│    │    └─Conv2d: 3-1                       (1,792)\n",
       "│    │    └─BatchNorm2d: 3-2                  (128)\n",
       "│    │    └─ReLU: 3-3                         --\n",
       "│    │    └─Conv2d: 3-4                       (36,928)\n",
       "│    │    └─BatchNorm2d: 3-5                  (128)\n",
       "│    │    └─ReLU: 3-6                         --\n",
       "├─DownConv: 1-2                               --\n",
       "│    └─Sequential: 2-2                        --\n",
       "│    │    └─MaxPool2d: 3-7                    --\n",
       "│    │    └─DoubleConv: 3-8                   (221,952)\n",
       "├─DownConv: 1-3                               --\n",
       "│    └─Sequential: 2-3                        --\n",
       "│    │    └─MaxPool2d: 3-9                    --\n",
       "│    │    └─DoubleConv: 3-10                  886,272\n",
       "├─DownConv: 1-4                               --\n",
       "│    └─Sequential: 2-4                        --\n",
       "│    │    └─MaxPool2d: 3-11                   --\n",
       "│    │    └─DoubleConv: 3-12                  3,542,016\n",
       "├─DownConv: 1-5                               --\n",
       "│    └─Sequential: 2-5                        --\n",
       "│    │    └─MaxPool2d: 3-13                   --\n",
       "│    │    └─DoubleConv: 3-14                  4,721,664\n",
       "├─UpConv: 1-6                                 --\n",
       "│    └─Upsample: 2-6                          --\n",
       "│    └─DoubleConv: 2-7                        --\n",
       "│    │    └─Sequential: 3-15                  5,900,544\n",
       "├─UpConv: 1-7                                 --\n",
       "│    └─Upsample: 2-8                          --\n",
       "│    └─DoubleConv: 2-9                        --\n",
       "│    │    └─Sequential: 3-16                  1,475,712\n",
       "├─UpConv: 1-8                                 --\n",
       "│    └─Upsample: 2-10                         --\n",
       "│    └─DoubleConv: 2-11                       --\n",
       "│    │    └─Sequential: 3-17                  369,216\n",
       "├─UpConv: 1-9                                 --\n",
       "│    └─Upsample: 2-12                         --\n",
       "│    └─DoubleConv: 2-13                       --\n",
       "│    │    └─Sequential: 3-18                  110,976\n",
       "├─OutConv: 1-10                               --\n",
       "│    └─Conv2d: 2-14                           65\n",
       "======================================================================\n",
       "Total params: 17,267,393\n",
       "Trainable params: 17,006,465\n",
       "Non-trainable params: 260,928\n",
       "======================================================================"
      ]
     },
     "execution_count": 12,
     "metadata": {},
     "output_type": "execute_result"
    }
   ],
   "source": [
    "summary(model)"
   ]
  },
  {
   "cell_type": "code",
   "execution_count": 4,
   "id": "24de83fb",
   "metadata": {},
   "outputs": [],
   "source": [
    "class Data_from_disk(torch.utils.data.Dataset) :\n",
    "    def __init__(self , tag = 0 , dir_ = \"../Data/Full_Aug/\"): #tag indicates the type of input image to be trained on \n",
    "        super().__init__()\n",
    "        self.tag = tag \n",
    "        self.dir_ = dir_\n",
    "        self.inp_dir = [x for x in os.listdir(dir_ + \"Im_inp/\") if x.split(\"_\")[2] == str(tag)]\n",
    "        self.out_dir = os.listdir(dir_ + \"Im_out/\")\n",
    "    def __getitem__(self , idx):\n",
    "        #print(self.inp_dir[idx] , self.out_dir[idx])\n",
    "        #assert self.inp_dir[idx] == self.out_dir[idx] , f\"names dont match . given names are {self.inp_dir[idx]} and {self.out_dir[idx]}\"\n",
    "        #assert self.inp_dir[idx].split(\"_\")[2] == str(self.tag) , f\"tags are different , required : {self.tag} , found : {self.inp_dir[idx].split('_')[2]}\"\n",
    "        x1 = np.array(Image.open(self.dir_ + \"Im_inp/\" + self.inp_dir[idx]))\n",
    "        x2 = np.array(Image.open(self.dir_ + \"Im_out/\" + self.out_dir[idx]))[:,:,0:1]\n",
    "        x1 = np.transpose(x1 ,(2, 0, 1))\n",
    "        x2 = np.transpose(x2 ,(2, 0, 1))\n",
    "        x1 = x1/255\n",
    "        x2 = x2/255\n",
    "        #if return_names :\n",
    "        #return (torch.from_numpy(x1) , torch.from_numpy(x2)) , (self.inp_dir[idx] ,self.out_dir[idx] )\n",
    "        return (torch.from_numpy(x1) , torch.from_numpy(x2))\n",
    "    \n",
    "    def __len__(self):\n",
    "        return (len(self.inp_dir))    "
   ]
  },
  {
   "cell_type": "code",
   "execution_count": 33,
   "id": "4849b1e9",
   "metadata": {},
   "outputs": [],
   "source": [
    "#Plan is to train three different models on the training data of three tags and use their ensemble"
   ]
  },
  {
   "cell_type": "code",
   "execution_count": 30,
   "id": "a798b984",
   "metadata": {},
   "outputs": [],
   "source": [
    "dd = Data_from_disk(tag = 2)"
   ]
  },
  {
   "cell_type": "code",
   "execution_count": 31,
   "id": "fd605768",
   "metadata": {},
   "outputs": [
    {
     "name": "stdout",
     "output_type": "stream",
     "text": [
      " => MC16_S1_2_0_0.png MC16_S1_0_0_0.png\n",
      " => MC16_S1_2_0_100.png MC16_S1_0_0_100.png\n",
      " => MC16_S1_2_0_150.png MC16_S1_0_0_150.png\n",
      " => MC16_S1_2_0_200.png MC16_S1_0_0_200.png\n",
      " => MC16_S1_2_0_250.png MC16_S1_0_0_250.png\n",
      " => MC16_S1_2_0_300.png MC16_S1_0_0_300.png\n",
      " => MC16_S1_2_0_350.png MC16_S1_0_0_350.png\n",
      " => MC16_S1_2_0_400.png MC16_S1_0_0_400.png\n",
      " => MC16_S1_2_0_450.png MC16_S1_0_0_450.png\n",
      " => MC16_S1_2_0_50.png MC16_S1_0_0_50.png\n",
      " => MC16_S1_2_0_500.png MC16_S1_0_0_500.png\n",
      " => MC16_S1_2_0_550.png MC16_S1_0_0_550.png\n",
      " => MC16_S1_2_0_600.png MC16_S1_0_0_600.png\n",
      " => MC16_S1_2_0_650.png MC16_S1_0_0_650.png\n",
      " => MC16_S1_2_0_700.png MC16_S1_0_0_700.png\n",
      " => MC16_S1_2_0_750.png MC16_S1_0_0_750.png\n",
      " => MC16_S1_2_100_0.png MC16_S1_0_100_0.png\n",
      " => MC16_S1_2_100_100.png MC16_S1_0_100_100.png\n",
      " => MC16_S1_2_100_150.png MC16_S1_0_100_150.png\n",
      " => MC16_S1_2_100_200.png MC16_S1_0_100_200.png\n",
      " => MC16_S1_2_100_250.png MC16_S1_0_100_250.png\n",
      " => MC16_S1_2_100_300.png MC16_S1_0_100_300.png\n",
      " => MC16_S1_2_100_350.png MC16_S1_0_100_350.png\n",
      " => MC16_S1_2_100_400.png MC16_S1_0_100_400.png\n",
      " => MC16_S1_2_100_450.png MC16_S1_0_100_450.png\n",
      " => MC16_S1_2_100_50.png MC16_S1_0_100_50.png\n",
      " => MC16_S1_2_100_500.png MC16_S1_0_100_500.png\n",
      " => MC16_S1_2_100_550.png MC16_S1_0_100_550.png\n",
      " => MC16_S1_2_100_600.png MC16_S1_0_100_600.png\n",
      " => MC16_S1_2_100_650.png MC16_S1_0_100_650.png\n",
      " => MC16_S1_2_100_700.png MC16_S1_0_100_700.png\n",
      " => MC16_S1_2_100_750.png MC16_S1_0_100_750.png\n",
      " => MC16_S1_2_150_0.png MC16_S1_0_150_0.png\n",
      " => MC16_S1_2_150_100.png MC16_S1_0_150_100.png\n",
      " => MC16_S1_2_150_150.png MC16_S1_0_150_150.png\n",
      " => MC16_S1_2_150_200.png MC16_S1_0_150_200.png\n",
      " => MC16_S1_2_150_250.png MC16_S1_0_150_250.png\n",
      " => MC16_S1_2_150_300.png MC16_S1_0_150_300.png\n",
      " => MC16_S1_2_150_350.png MC16_S1_0_150_350.png\n",
      " => MC16_S1_2_150_400.png MC16_S1_0_150_400.png\n",
      " => MC16_S1_2_150_450.png MC16_S1_0_150_450.png\n",
      " => MC16_S1_2_150_50.png MC16_S1_0_150_50.png\n",
      " => MC16_S1_2_150_500.png MC16_S1_0_150_500.png\n",
      " => MC16_S1_2_150_550.png MC16_S1_0_150_550.png\n",
      " => MC16_S1_2_150_600.png MC16_S1_0_150_600.png\n",
      " => MC16_S1_2_150_650.png MC16_S1_0_150_650.png\n",
      " => MC16_S1_2_150_700.png MC16_S1_0_150_700.png\n",
      " => MC16_S1_2_150_750.png MC16_S1_0_150_750.png\n",
      " => MC16_S1_2_200_0.png MC16_S1_0_200_0.png\n",
      " => MC16_S1_2_200_100.png MC16_S1_0_200_100.png\n",
      " => MC16_S1_2_200_150.png MC16_S1_0_200_150.png\n",
      " => MC16_S1_2_200_200.png MC16_S1_0_200_200.png\n",
      " => MC16_S1_2_200_250.png MC16_S1_0_200_250.png\n",
      " => MC16_S1_2_200_300.png MC16_S1_0_200_300.png\n",
      " => MC16_S1_2_200_350.png MC16_S1_0_200_350.png\n",
      " => MC16_S1_2_200_400.png MC16_S1_0_200_400.png\n",
      " => MC16_S1_2_200_450.png MC16_S1_0_200_450.png\n",
      " => MC16_S1_2_200_50.png MC16_S1_0_200_50.png\n",
      " => MC16_S1_2_200_500.png MC16_S1_0_200_500.png\n",
      " => MC16_S1_2_200_550.png MC16_S1_0_200_550.png\n",
      " => MC16_S1_2_200_600.png MC16_S1_0_200_600.png\n",
      " => MC16_S1_2_200_650.png MC16_S1_0_200_650.png\n",
      " => MC16_S1_2_200_700.png MC16_S1_0_200_700.png\n",
      " => MC16_S1_2_200_750.png MC16_S1_0_200_750.png\n",
      " => MC16_S1_2_250_0.png MC16_S1_0_250_0.png\n",
      " => MC16_S1_2_250_100.png MC16_S1_0_250_100.png\n",
      " => MC16_S1_2_250_150.png MC16_S1_0_250_150.png\n",
      " => MC16_S1_2_250_200.png MC16_S1_0_250_200.png\n",
      " => MC16_S1_2_250_250.png MC16_S1_0_250_250.png\n",
      " => MC16_S1_2_250_300.png MC16_S1_0_250_300.png\n",
      " => MC16_S1_2_250_350.png MC16_S1_0_250_350.png\n",
      " => MC16_S1_2_250_400.png MC16_S1_0_250_400.png\n",
      " => MC16_S1_2_250_450.png MC16_S1_0_250_450.png\n",
      " => MC16_S1_2_250_50.png MC16_S1_0_250_50.png\n",
      " => MC16_S1_2_250_500.png MC16_S1_0_250_500.png\n",
      " => MC16_S1_2_250_550.png MC16_S1_0_250_550.png\n",
      " => MC16_S1_2_250_600.png MC16_S1_0_250_600.png\n",
      " => MC16_S1_2_250_650.png MC16_S1_0_250_650.png\n",
      " => MC16_S1_2_250_700.png MC16_S1_0_250_700.png\n",
      " => MC16_S1_2_250_750.png MC16_S1_0_250_750.png\n",
      " => MC16_S1_2_300_0.png MC16_S1_0_300_0.png\n",
      " => MC16_S1_2_300_100.png MC16_S1_0_300_100.png\n",
      " => MC16_S1_2_300_150.png MC16_S1_0_300_150.png\n",
      " => MC16_S1_2_300_200.png MC16_S1_0_300_200.png\n",
      " => MC16_S1_2_300_250.png MC16_S1_0_300_250.png\n",
      " => MC16_S1_2_300_300.png MC16_S1_0_300_300.png\n",
      " => MC16_S1_2_300_350.png MC16_S1_0_300_350.png\n",
      " => MC16_S1_2_300_400.png MC16_S1_0_300_400.png\n",
      " => MC16_S1_2_300_450.png MC16_S1_0_300_450.png\n",
      " => MC16_S1_2_300_50.png MC16_S1_0_300_50.png\n",
      " => MC16_S1_2_300_500.png MC16_S1_0_300_500.png\n",
      " => MC16_S1_2_300_550.png MC16_S1_0_300_550.png\n",
      " => MC16_S1_2_300_600.png MC16_S1_0_300_600.png\n",
      " => MC16_S1_2_300_650.png MC16_S1_0_300_650.png\n",
      " => MC16_S1_2_300_700.png MC16_S1_0_300_700.png\n",
      " => MC16_S1_2_300_750.png MC16_S1_0_300_750.png\n",
      " => MC16_S1_2_350_0.png MC16_S1_0_350_0.png\n",
      " => MC16_S1_2_350_100.png MC16_S1_0_350_100.png\n",
      " => MC16_S1_2_350_150.png MC16_S1_0_350_150.png\n",
      " => MC16_S1_2_350_200.png MC16_S1_0_350_200.png\n",
      " => MC16_S1_2_350_250.png MC16_S1_0_350_250.png\n",
      " => MC16_S1_2_350_300.png MC16_S1_0_350_300.png\n",
      " => MC16_S1_2_350_350.png MC16_S1_0_350_350.png\n",
      " => MC16_S1_2_350_400.png MC16_S1_0_350_400.png\n",
      " => MC16_S1_2_350_450.png MC16_S1_0_350_450.png\n",
      " => MC16_S1_2_350_50.png MC16_S1_0_350_50.png\n",
      " => MC16_S1_2_350_500.png MC16_S1_0_350_500.png\n",
      " => MC16_S1_2_350_550.png MC16_S1_0_350_550.png\n",
      " => MC16_S1_2_350_600.png MC16_S1_0_350_600.png\n",
      " => MC16_S1_2_350_650.png MC16_S1_0_350_650.png\n",
      " => MC16_S1_2_350_700.png MC16_S1_0_350_700.png\n",
      " => MC16_S1_2_350_750.png MC16_S1_0_350_750.png\n",
      " => MC16_S1_2_400_0.png MC16_S1_0_400_0.png\n",
      " => MC16_S1_2_400_100.png MC16_S1_0_400_100.png\n",
      " => MC16_S1_2_400_150.png MC16_S1_0_400_150.png\n",
      " => MC16_S1_2_400_200.png MC16_S1_0_400_200.png\n",
      " => MC16_S1_2_400_250.png MC16_S1_0_400_250.png\n",
      " => MC16_S1_2_400_300.png MC16_S1_0_400_300.png\n",
      " => MC16_S1_2_400_350.png MC16_S1_0_400_350.png\n",
      " => MC16_S1_2_400_400.png MC16_S1_0_400_400.png\n",
      " => MC16_S1_2_400_450.png MC16_S1_0_400_450.png\n",
      " => MC16_S1_2_400_50.png MC16_S1_0_400_50.png\n",
      " => MC16_S1_2_400_500.png MC16_S1_0_400_500.png\n",
      " => MC16_S1_2_400_550.png MC16_S1_0_400_550.png\n",
      " => MC16_S1_2_400_600.png MC16_S1_0_400_600.png\n",
      " => MC16_S1_2_400_650.png MC16_S1_0_400_650.png\n",
      " => MC16_S1_2_400_700.png MC16_S1_0_400_700.png\n",
      " => MC16_S1_2_400_750.png MC16_S1_0_400_750.png\n",
      " => MC16_S1_2_450_0.png MC16_S1_0_450_0.png\n",
      " => MC16_S1_2_450_100.png MC16_S1_0_450_100.png\n",
      " => MC16_S1_2_450_150.png MC16_S1_0_450_150.png\n",
      " => MC16_S1_2_450_200.png MC16_S1_0_450_200.png\n",
      " => MC16_S1_2_450_250.png MC16_S1_0_450_250.png\n",
      " => MC16_S1_2_450_300.png MC16_S1_0_450_300.png\n",
      " => MC16_S1_2_450_350.png MC16_S1_0_450_350.png\n",
      " => MC16_S1_2_450_400.png MC16_S1_0_450_400.png\n",
      " => MC16_S1_2_450_450.png MC16_S1_0_450_450.png\n",
      " => MC16_S1_2_450_50.png MC16_S1_0_450_50.png\n",
      " => MC16_S1_2_450_500.png MC16_S1_0_450_500.png\n",
      " => MC16_S1_2_450_550.png MC16_S1_0_450_550.png\n",
      " => MC16_S1_2_450_600.png MC16_S1_0_450_600.png\n",
      " => MC16_S1_2_450_650.png MC16_S1_0_450_650.png\n",
      " => MC16_S1_2_450_700.png MC16_S1_0_450_700.png\n",
      " => MC16_S1_2_450_750.png MC16_S1_0_450_750.png\n",
      " => MC16_S1_2_500_0.png MC16_S1_0_500_0.png\n",
      " => MC16_S1_2_500_100.png MC16_S1_0_500_100.png\n",
      " => MC16_S1_2_500_150.png MC16_S1_0_500_150.png\n",
      " => MC16_S1_2_500_200.png MC16_S1_0_500_200.png\n",
      " => MC16_S1_2_500_250.png MC16_S1_0_500_250.png\n",
      " => MC16_S1_2_500_300.png MC16_S1_0_500_300.png\n",
      " => MC16_S1_2_500_350.png MC16_S1_0_500_350.png\n",
      " => MC16_S1_2_500_400.png MC16_S1_0_500_400.png\n",
      " => MC16_S1_2_500_450.png MC16_S1_0_500_450.png\n",
      " => MC16_S1_2_500_50.png MC16_S1_0_500_50.png\n",
      " => MC16_S1_2_500_500.png MC16_S1_0_500_500.png\n",
      " => MC16_S1_2_500_550.png MC16_S1_0_500_550.png\n",
      " => MC16_S1_2_500_600.png MC16_S1_0_500_600.png\n",
      " => MC16_S1_2_500_650.png MC16_S1_0_500_650.png\n",
      " => MC16_S1_2_500_700.png MC16_S1_0_500_700.png\n",
      " => MC16_S1_2_500_750.png MC16_S1_0_500_750.png\n",
      " => MC16_S1_2_50_0.png MC16_S1_0_50_0.png\n",
      " => MC16_S1_2_50_100.png MC16_S1_0_50_100.png\n",
      " => MC16_S1_2_50_150.png MC16_S1_0_50_150.png\n",
      " => MC16_S1_2_50_200.png MC16_S1_0_50_200.png\n",
      " => MC16_S1_2_50_250.png MC16_S1_0_50_250.png\n",
      " => MC16_S1_2_50_300.png MC16_S1_0_50_300.png\n",
      " => MC16_S1_2_50_350.png MC16_S1_0_50_350.png\n",
      " => MC16_S1_2_50_400.png MC16_S1_0_50_400.png\n",
      " => MC16_S1_2_50_450.png MC16_S1_0_50_450.png\n",
      " => MC16_S1_2_50_50.png MC16_S1_0_50_50.png\n",
      " => MC16_S1_2_50_500.png MC16_S1_0_50_500.png\n",
      " => MC16_S1_2_50_550.png MC16_S1_0_50_550.png\n",
      " => MC16_S1_2_50_600.png MC16_S1_0_50_600.png\n",
      " => MC16_S1_2_50_650.png MC16_S1_0_50_650.png\n",
      " => MC16_S1_2_50_700.png MC16_S1_0_50_700.png\n",
      " => MC16_S1_2_50_750.png MC16_S1_0_50_750.png\n",
      " => MC16_S1_2_550_0.png MC16_S1_0_550_0.png\n",
      " => MC16_S1_2_550_100.png MC16_S1_0_550_100.png\n",
      " => MC16_S1_2_550_150.png MC16_S1_0_550_150.png\n",
      " => MC16_S1_2_550_200.png MC16_S1_0_550_200.png\n",
      " => MC16_S1_2_550_250.png MC16_S1_0_550_250.png\n",
      " => MC16_S1_2_550_300.png MC16_S1_0_550_300.png\n"
     ]
    },
    {
     "name": "stdout",
     "output_type": "stream",
     "text": [
      " => MC16_S1_2_550_350.png MC16_S1_0_550_350.png\n",
      " => MC16_S1_2_550_400.png MC16_S1_0_550_400.png\n",
      " => MC16_S1_2_550_450.png MC16_S1_0_550_450.png\n",
      " => MC16_S1_2_550_50.png MC16_S1_0_550_50.png\n",
      " => MC16_S1_2_550_500.png MC16_S1_0_550_500.png\n",
      " => MC16_S1_2_550_550.png MC16_S1_0_550_550.png\n",
      " => MC16_S1_2_550_600.png MC16_S1_0_550_600.png\n",
      " => MC16_S1_2_550_650.png MC16_S1_0_550_650.png\n",
      " => MC16_S1_2_550_700.png MC16_S1_0_550_700.png\n",
      " => MC16_S1_2_550_750.png MC16_S1_0_550_750.png\n",
      " => MC16_S1_2_600_0.png MC16_S1_0_600_0.png\n",
      " => MC16_S1_2_600_100.png MC16_S1_0_600_100.png\n",
      " => MC16_S1_2_600_150.png MC16_S1_0_600_150.png\n",
      " => MC16_S1_2_600_200.png MC16_S1_0_600_200.png\n",
      " => MC16_S1_2_600_250.png MC16_S1_0_600_250.png\n",
      " => MC16_S1_2_600_300.png MC16_S1_0_600_300.png\n",
      " => MC16_S1_2_600_350.png MC16_S1_0_600_350.png\n",
      " => MC16_S1_2_600_400.png MC16_S1_0_600_400.png\n",
      " => MC16_S1_2_600_450.png MC16_S1_0_600_450.png\n",
      " => MC16_S1_2_600_50.png MC16_S1_0_600_50.png\n",
      " => MC16_S1_2_600_500.png MC16_S1_0_600_500.png\n",
      " => MC16_S1_2_600_550.png MC16_S1_0_600_550.png\n",
      " => MC16_S1_2_600_600.png MC16_S1_0_600_600.png\n",
      " => MC16_S1_2_600_650.png MC16_S1_0_600_650.png\n",
      " => MC16_S1_2_600_700.png MC16_S1_0_600_700.png\n",
      " => MC16_S1_2_600_750.png MC16_S1_0_600_750.png\n",
      " => MC16_S1_2_650_0.png MC16_S1_0_650_0.png\n",
      " => MC16_S1_2_650_100.png MC16_S1_0_650_100.png\n",
      " => MC16_S1_2_650_150.png MC16_S1_0_650_150.png\n",
      " => MC16_S1_2_650_200.png MC16_S1_0_650_200.png\n",
      " => MC16_S1_2_650_250.png MC16_S1_0_650_250.png\n",
      " => MC16_S1_2_650_300.png MC16_S1_0_650_300.png\n",
      " => MC16_S1_2_650_350.png MC16_S1_0_650_350.png\n",
      " => MC16_S1_2_650_400.png MC16_S1_0_650_400.png\n",
      " => MC16_S1_2_650_450.png MC16_S1_0_650_450.png\n",
      " => MC16_S1_2_650_50.png MC16_S1_0_650_50.png\n",
      " => MC16_S1_2_650_500.png MC16_S1_0_650_500.png\n",
      " => MC16_S1_2_650_550.png MC16_S1_0_650_550.png\n",
      " => MC16_S1_2_650_600.png MC16_S1_0_650_600.png\n",
      " => MC16_S1_2_650_650.png MC16_S1_0_650_650.png\n",
      " => MC16_S1_2_650_700.png MC16_S1_0_650_700.png\n",
      " => MC16_S1_2_650_750.png MC16_S1_0_650_750.png\n",
      " => MC16_S1_2_700_0.png MC16_S1_0_700_0.png\n",
      " => MC16_S1_2_700_100.png MC16_S1_0_700_100.png\n",
      " => MC16_S1_2_700_150.png MC16_S1_0_700_150.png\n",
      " => MC16_S1_2_700_200.png MC16_S1_0_700_200.png\n",
      " => MC16_S1_2_700_250.png MC16_S1_0_700_250.png\n",
      " => MC16_S1_2_700_300.png MC16_S1_0_700_300.png\n",
      " => MC16_S1_2_700_350.png MC16_S1_0_700_350.png\n",
      " => MC16_S1_2_700_400.png MC16_S1_0_700_400.png\n",
      " => MC16_S1_2_700_450.png MC16_S1_0_700_450.png\n",
      " => MC16_S1_2_700_50.png MC16_S1_0_700_50.png\n",
      " => MC16_S1_2_700_500.png MC16_S1_0_700_500.png\n",
      " => MC16_S1_2_700_550.png MC16_S1_0_700_550.png\n",
      " => MC16_S1_2_700_600.png MC16_S1_0_700_600.png\n",
      " => MC16_S1_2_700_650.png MC16_S1_0_700_650.png\n",
      " => MC16_S1_2_700_700.png MC16_S1_0_700_700.png\n",
      " => MC16_S1_2_700_750.png MC16_S1_0_700_750.png\n",
      " => MC16_S1_2_750_0.png MC16_S1_0_750_0.png\n",
      " => MC16_S1_2_750_100.png MC16_S1_0_750_100.png\n",
      " => MC16_S1_2_750_150.png MC16_S1_0_750_150.png\n",
      " => MC16_S1_2_750_200.png MC16_S1_0_750_200.png\n",
      " => MC16_S1_2_750_250.png MC16_S1_0_750_250.png\n",
      " => MC16_S1_2_750_300.png MC16_S1_0_750_300.png\n",
      " => MC16_S1_2_750_350.png MC16_S1_0_750_350.png\n",
      " => MC16_S1_2_750_400.png MC16_S1_0_750_400.png\n",
      " => MC16_S1_2_750_450.png MC16_S1_0_750_450.png\n",
      " => MC16_S1_2_750_50.png MC16_S1_0_750_50.png\n",
      " => MC16_S1_2_750_500.png MC16_S1_0_750_500.png\n",
      " => MC16_S1_2_750_550.png MC16_S1_0_750_550.png\n",
      " => MC16_S1_2_750_600.png MC16_S1_0_750_600.png\n",
      " => MC16_S1_2_750_650.png MC16_S1_0_750_650.png\n",
      " => MC16_S1_2_750_700.png MC16_S1_0_750_700.png\n",
      " => MC16_S1_2_750_750.png MC16_S1_0_750_750.png\n",
      " => MC16_S2_2_0_0.png MC16_S2_0_0_0.png\n",
      " => MC16_S2_2_0_100.png MC16_S2_0_0_100.png\n",
      " => MC16_S2_2_0_150.png MC16_S2_0_0_150.png\n",
      " => MC16_S2_2_0_200.png MC16_S2_0_0_200.png\n",
      " => MC16_S2_2_0_250.png MC16_S2_0_0_250.png\n",
      " => MC16_S2_2_0_300.png MC16_S2_0_0_300.png\n",
      " => MC16_S2_2_0_350.png MC16_S2_0_0_350.png\n",
      " => MC16_S2_2_0_400.png MC16_S2_0_0_400.png\n",
      " => MC16_S2_2_0_450.png MC16_S2_0_0_450.png\n",
      " => MC16_S2_2_0_50.png MC16_S2_0_0_50.png\n",
      " => MC16_S2_2_0_500.png MC16_S2_0_0_500.png\n",
      " => MC16_S2_2_0_550.png MC16_S2_0_0_550.png\n",
      " => MC16_S2_2_0_600.png MC16_S2_0_0_600.png\n",
      " => MC16_S2_2_0_650.png MC16_S2_0_0_650.png\n",
      " => MC16_S2_2_0_700.png MC16_S2_0_0_700.png\n",
      " => MC16_S2_2_0_750.png MC16_S2_0_0_750.png\n",
      " => MC16_S2_2_100_0.png MC16_S2_0_100_0.png\n",
      " => MC16_S2_2_100_100.png MC16_S2_0_100_100.png\n",
      " => MC16_S2_2_100_150.png MC16_S2_0_100_150.png\n",
      " => MC16_S2_2_100_200.png MC16_S2_0_100_200.png\n",
      " => MC16_S2_2_100_250.png MC16_S2_0_100_250.png\n",
      " => MC16_S2_2_100_300.png MC16_S2_0_100_300.png\n",
      " => MC16_S2_2_100_350.png MC16_S2_0_100_350.png\n",
      " => MC16_S2_2_100_400.png MC16_S2_0_100_400.png\n",
      " => MC16_S2_2_100_450.png MC16_S2_0_100_450.png\n",
      " => MC16_S2_2_100_50.png MC16_S2_0_100_50.png\n",
      " => MC16_S2_2_100_500.png MC16_S2_0_100_500.png\n",
      " => MC16_S2_2_100_550.png MC16_S2_0_100_550.png\n",
      " => MC16_S2_2_100_600.png MC16_S2_0_100_600.png\n",
      " => MC16_S2_2_100_650.png MC16_S2_0_100_650.png\n",
      " => MC16_S2_2_100_700.png MC16_S2_0_100_700.png\n",
      " => MC16_S2_2_100_750.png MC16_S2_0_100_750.png\n",
      " => MC16_S2_2_150_0.png MC16_S2_0_150_0.png\n",
      " => MC16_S2_2_150_100.png MC16_S2_0_150_100.png\n",
      " => MC16_S2_2_150_150.png MC16_S2_0_150_150.png\n",
      " => MC16_S2_2_150_200.png MC16_S2_0_150_200.png\n",
      " => MC16_S2_2_150_250.png MC16_S2_0_150_250.png\n",
      " => MC16_S2_2_150_300.png MC16_S2_0_150_300.png\n",
      " => MC16_S2_2_150_350.png MC16_S2_0_150_350.png\n",
      " => MC16_S2_2_150_400.png MC16_S2_0_150_400.png\n",
      " => MC16_S2_2_150_450.png MC16_S2_0_150_450.png\n",
      " => MC16_S2_2_150_50.png MC16_S2_0_150_50.png\n",
      " => MC16_S2_2_150_500.png MC16_S2_0_150_500.png\n",
      " => MC16_S2_2_150_550.png MC16_S2_0_150_550.png\n",
      " => MC16_S2_2_150_600.png MC16_S2_0_150_600.png\n",
      " => MC16_S2_2_150_650.png MC16_S2_0_150_650.png\n",
      " => MC16_S2_2_150_700.png MC16_S2_0_150_700.png\n",
      " => MC16_S2_2_150_750.png MC16_S2_0_150_750.png\n",
      " => MC16_S2_2_200_0.png MC16_S2_0_200_0.png\n",
      " => MC16_S2_2_200_100.png MC16_S2_0_200_100.png\n",
      " => MC16_S2_2_200_150.png MC16_S2_0_200_150.png\n",
      " => MC16_S2_2_200_200.png MC16_S2_0_200_200.png\n",
      " => MC16_S2_2_200_250.png MC16_S2_0_200_250.png\n",
      " => MC16_S2_2_200_300.png MC16_S2_0_200_300.png\n",
      " => MC16_S2_2_200_350.png MC16_S2_0_200_350.png\n",
      " => MC16_S2_2_200_400.png MC16_S2_0_200_400.png\n",
      " => MC16_S2_2_200_450.png MC16_S2_0_200_450.png\n",
      " => MC16_S2_2_200_50.png MC16_S2_0_200_50.png\n",
      " => MC16_S2_2_200_500.png MC16_S2_0_200_500.png\n",
      " => MC16_S2_2_200_550.png MC16_S2_0_200_550.png\n",
      " => MC16_S2_2_200_600.png MC16_S2_0_200_600.png\n",
      " => MC16_S2_2_200_650.png MC16_S2_0_200_650.png\n",
      " => MC16_S2_2_200_700.png MC16_S2_0_200_700.png\n",
      " => MC16_S2_2_200_750.png MC16_S2_0_200_750.png\n",
      " => MC16_S2_2_250_0.png MC16_S2_0_250_0.png\n",
      " => MC16_S2_2_250_100.png MC16_S2_0_250_100.png\n",
      " => MC16_S2_2_250_150.png MC16_S2_0_250_150.png\n",
      " => MC16_S2_2_250_200.png MC16_S2_0_250_200.png\n",
      " => MC16_S2_2_250_250.png MC16_S2_0_250_250.png\n",
      " => MC16_S2_2_250_300.png MC16_S2_0_250_300.png\n",
      " => MC16_S2_2_250_350.png MC16_S2_0_250_350.png\n",
      " => MC16_S2_2_250_400.png MC16_S2_0_250_400.png\n",
      " => MC16_S2_2_250_450.png MC16_S2_0_250_450.png\n",
      " => MC16_S2_2_250_50.png MC16_S2_0_250_50.png\n",
      " => MC16_S2_2_250_500.png MC16_S2_0_250_500.png\n",
      " => MC16_S2_2_250_550.png MC16_S2_0_250_550.png\n",
      " => MC16_S2_2_250_600.png MC16_S2_0_250_600.png\n",
      " => MC16_S2_2_250_650.png MC16_S2_0_250_650.png\n",
      " => MC16_S2_2_250_700.png MC16_S2_0_250_700.png\n",
      " => MC16_S2_2_250_750.png MC16_S2_0_250_750.png\n",
      " => MC16_S2_2_300_0.png MC16_S2_0_300_0.png\n",
      " => MC16_S2_2_300_100.png MC16_S2_0_300_100.png\n",
      " => MC16_S2_2_300_150.png MC16_S2_0_300_150.png\n",
      " => MC16_S2_2_300_200.png MC16_S2_0_300_200.png\n",
      " => MC16_S2_2_300_250.png MC16_S2_0_300_250.png\n",
      " => MC16_S2_2_300_300.png MC16_S2_0_300_300.png\n",
      " => MC16_S2_2_300_350.png MC16_S2_0_300_350.png\n",
      " => MC16_S2_2_300_400.png MC16_S2_0_300_400.png\n",
      " => MC16_S2_2_300_450.png MC16_S2_0_300_450.png\n",
      " => MC16_S2_2_300_50.png MC16_S2_0_300_50.png\n",
      " => MC16_S2_2_300_500.png MC16_S2_0_300_500.png\n",
      " => MC16_S2_2_300_550.png MC16_S2_0_300_550.png\n",
      " => MC16_S2_2_300_600.png MC16_S2_0_300_600.png\n",
      " => MC16_S2_2_300_650.png MC16_S2_0_300_650.png\n",
      " => MC16_S2_2_300_700.png MC16_S2_0_300_700.png\n",
      " => MC16_S2_2_300_750.png MC16_S2_0_300_750.png\n",
      " => MC16_S2_2_350_0.png MC16_S2_0_350_0.png\n",
      " => MC16_S2_2_350_100.png MC16_S2_0_350_100.png\n",
      " => MC16_S2_2_350_150.png MC16_S2_0_350_150.png\n",
      " => MC16_S2_2_350_200.png MC16_S2_0_350_200.png\n",
      " => MC16_S2_2_350_250.png MC16_S2_0_350_250.png\n",
      " => MC16_S2_2_350_300.png MC16_S2_0_350_300.png\n",
      " => MC16_S2_2_350_350.png MC16_S2_0_350_350.png\n",
      " => MC16_S2_2_350_400.png MC16_S2_0_350_400.png\n",
      " => MC16_S2_2_350_450.png MC16_S2_0_350_450.png\n",
      " => MC16_S2_2_350_50.png MC16_S2_0_350_50.png\n",
      " => MC16_S2_2_350_500.png MC16_S2_0_350_500.png\n",
      " => MC16_S2_2_350_550.png MC16_S2_0_350_550.png\n",
      " => MC16_S2_2_350_600.png MC16_S2_0_350_600.png\n",
      " => MC16_S2_2_350_650.png MC16_S2_0_350_650.png\n"
     ]
    },
    {
     "name": "stdout",
     "output_type": "stream",
     "text": [
      " => MC16_S2_2_350_700.png MC16_S2_0_350_700.png\n",
      " => MC16_S2_2_350_750.png MC16_S2_0_350_750.png\n",
      " => MC16_S2_2_400_0.png MC16_S2_0_400_0.png\n",
      " => MC16_S2_2_400_100.png MC16_S2_0_400_100.png\n",
      " => MC16_S2_2_400_150.png MC16_S2_0_400_150.png\n",
      " => MC16_S2_2_400_200.png MC16_S2_0_400_200.png\n",
      " => MC16_S2_2_400_250.png MC16_S2_0_400_250.png\n",
      " => MC16_S2_2_400_300.png MC16_S2_0_400_300.png\n",
      " => MC16_S2_2_400_350.png MC16_S2_0_400_350.png\n",
      " => MC16_S2_2_400_400.png MC16_S2_0_400_400.png\n",
      " => MC16_S2_2_400_450.png MC16_S2_0_400_450.png\n",
      " => MC16_S2_2_400_50.png MC16_S2_0_400_50.png\n",
      " => MC16_S2_2_400_500.png MC16_S2_0_400_500.png\n",
      " => MC16_S2_2_400_550.png MC16_S2_0_400_550.png\n",
      " => MC16_S2_2_400_600.png MC16_S2_0_400_600.png\n",
      " => MC16_S2_2_400_650.png MC16_S2_0_400_650.png\n",
      " => MC16_S2_2_400_700.png MC16_S2_0_400_700.png\n",
      " => MC16_S2_2_400_750.png MC16_S2_0_400_750.png\n",
      " => MC16_S2_2_450_0.png MC16_S2_0_450_0.png\n",
      " => MC16_S2_2_450_100.png MC16_S2_0_450_100.png\n",
      " => MC16_S2_2_450_150.png MC16_S2_0_450_150.png\n",
      " => MC16_S2_2_450_200.png MC16_S2_0_450_200.png\n",
      " => MC16_S2_2_450_250.png MC16_S2_0_450_250.png\n",
      " => MC16_S2_2_450_300.png MC16_S2_0_450_300.png\n",
      " => MC16_S2_2_450_350.png MC16_S2_0_450_350.png\n",
      " => MC16_S2_2_450_400.png MC16_S2_0_450_400.png\n",
      " => MC16_S2_2_450_450.png MC16_S2_0_450_450.png\n",
      " => MC16_S2_2_450_50.png MC16_S2_0_450_50.png\n",
      " => MC16_S2_2_450_500.png MC16_S2_0_450_500.png\n",
      " => MC16_S2_2_450_550.png MC16_S2_0_450_550.png\n",
      " => MC16_S2_2_450_600.png MC16_S2_0_450_600.png\n",
      " => MC16_S2_2_450_650.png MC16_S2_0_450_650.png\n",
      " => MC16_S2_2_450_700.png MC16_S2_0_450_700.png\n",
      " => MC16_S2_2_450_750.png MC16_S2_0_450_750.png\n",
      " => MC16_S2_2_500_0.png MC16_S2_0_500_0.png\n",
      " => MC16_S2_2_500_100.png MC16_S2_0_500_100.png\n",
      " => MC16_S2_2_500_150.png MC16_S2_0_500_150.png\n",
      " => MC16_S2_2_500_200.png MC16_S2_0_500_200.png\n",
      " => MC16_S2_2_500_250.png MC16_S2_0_500_250.png\n",
      " => MC16_S2_2_500_300.png MC16_S2_0_500_300.png\n",
      " => MC16_S2_2_500_350.png MC16_S2_0_500_350.png\n",
      " => MC16_S2_2_500_400.png MC16_S2_0_500_400.png\n",
      " => MC16_S2_2_500_450.png MC16_S2_0_500_450.png\n",
      " => MC16_S2_2_500_50.png MC16_S2_0_500_50.png\n",
      " => MC16_S2_2_500_500.png MC16_S2_0_500_500.png\n",
      " => MC16_S2_2_500_550.png MC16_S2_0_500_550.png\n",
      " => MC16_S2_2_500_600.png MC16_S2_0_500_600.png\n",
      " => MC16_S2_2_500_650.png MC16_S2_0_500_650.png\n",
      " => MC16_S2_2_500_700.png MC16_S2_0_500_700.png\n",
      " => MC16_S2_2_500_750.png MC16_S2_0_500_750.png\n",
      " => MC16_S2_2_50_0.png MC16_S2_0_50_0.png\n",
      " => MC16_S2_2_50_100.png MC16_S2_0_50_100.png\n",
      " => MC16_S2_2_50_150.png MC16_S2_0_50_150.png\n",
      " => MC16_S2_2_50_200.png MC16_S2_0_50_200.png\n",
      " => MC16_S2_2_50_250.png MC16_S2_0_50_250.png\n",
      " => MC16_S2_2_50_300.png MC16_S2_0_50_300.png\n",
      " => MC16_S2_2_50_350.png MC16_S2_0_50_350.png\n",
      " => MC16_S2_2_50_400.png MC16_S2_0_50_400.png\n",
      " => MC16_S2_2_50_450.png MC16_S2_0_50_450.png\n",
      " => MC16_S2_2_50_50.png MC16_S2_0_50_50.png\n",
      " => MC16_S2_2_50_500.png MC16_S2_0_50_500.png\n",
      " => MC16_S2_2_50_550.png MC16_S2_0_50_550.png\n",
      " => MC16_S2_2_50_600.png MC16_S2_0_50_600.png\n",
      " => MC16_S2_2_50_650.png MC16_S2_0_50_650.png\n",
      " => MC16_S2_2_50_700.png MC16_S2_0_50_700.png\n",
      " => MC16_S2_2_50_750.png MC16_S2_0_50_750.png\n",
      " => MC16_S2_2_550_0.png MC16_S2_0_550_0.png\n",
      " => MC16_S2_2_550_100.png MC16_S2_0_550_100.png\n",
      " => MC16_S2_2_550_150.png MC16_S2_0_550_150.png\n",
      " => MC16_S2_2_550_200.png MC16_S2_0_550_200.png\n",
      " => MC16_S2_2_550_250.png MC16_S2_0_550_250.png\n",
      " => MC16_S2_2_550_300.png MC16_S2_0_550_300.png\n",
      " => MC16_S2_2_550_350.png MC16_S2_0_550_350.png\n",
      " => MC16_S2_2_550_400.png MC16_S2_0_550_400.png\n",
      " => MC16_S2_2_550_450.png MC16_S2_0_550_450.png\n",
      " => MC16_S2_2_550_50.png MC16_S2_0_550_50.png\n",
      " => MC16_S2_2_550_500.png MC16_S2_0_550_500.png\n",
      " => MC16_S2_2_550_550.png MC16_S2_0_550_550.png\n",
      " => MC16_S2_2_550_600.png MC16_S2_0_550_600.png\n",
      " => MC16_S2_2_550_650.png MC16_S2_0_550_650.png\n",
      " => MC16_S2_2_550_700.png MC16_S2_0_550_700.png\n",
      " => MC16_S2_2_550_750.png MC16_S2_0_550_750.png\n",
      " => MC16_S2_2_600_0.png MC16_S2_0_600_0.png\n",
      " => MC16_S2_2_600_100.png MC16_S2_0_600_100.png\n",
      " => MC16_S2_2_600_150.png MC16_S2_0_600_150.png\n",
      " => MC16_S2_2_600_200.png MC16_S2_0_600_200.png\n",
      " => MC16_S2_2_600_250.png MC16_S2_0_600_250.png\n",
      " => MC16_S2_2_600_300.png MC16_S2_0_600_300.png\n",
      " => MC16_S2_2_600_350.png MC16_S2_0_600_350.png\n",
      " => MC16_S2_2_600_400.png MC16_S2_0_600_400.png\n",
      " => MC16_S2_2_600_450.png MC16_S2_0_600_450.png\n",
      " => MC16_S2_2_600_50.png MC16_S2_0_600_50.png\n",
      " => MC16_S2_2_600_500.png MC16_S2_0_600_500.png\n",
      " => MC16_S2_2_600_550.png MC16_S2_0_600_550.png\n",
      " => MC16_S2_2_600_600.png MC16_S2_0_600_600.png\n",
      " => MC16_S2_2_600_650.png MC16_S2_0_600_650.png\n",
      " => MC16_S2_2_600_700.png MC16_S2_0_600_700.png\n",
      " => MC16_S2_2_600_750.png MC16_S2_0_600_750.png\n",
      " => MC16_S2_2_650_0.png MC16_S2_0_650_0.png\n",
      " => MC16_S2_2_650_100.png MC16_S2_0_650_100.png\n",
      " => MC16_S2_2_650_150.png MC16_S2_0_650_150.png\n",
      " => MC16_S2_2_650_200.png MC16_S2_0_650_200.png\n",
      " => MC16_S2_2_650_250.png MC16_S2_0_650_250.png\n",
      " => MC16_S2_2_650_300.png MC16_S2_0_650_300.png\n",
      " => MC16_S2_2_650_350.png MC16_S2_0_650_350.png\n",
      " => MC16_S2_2_650_400.png MC16_S2_0_650_400.png\n",
      " => MC16_S2_2_650_450.png MC16_S2_0_650_450.png\n",
      " => MC16_S2_2_650_50.png MC16_S2_0_650_50.png\n",
      " => MC16_S2_2_650_500.png MC16_S2_0_650_500.png\n",
      " => MC16_S2_2_650_550.png MC16_S2_0_650_550.png\n",
      " => MC16_S2_2_650_600.png MC16_S2_0_650_600.png\n",
      " => MC16_S2_2_650_650.png MC16_S2_0_650_650.png\n",
      " => MC16_S2_2_650_700.png MC16_S2_0_650_700.png\n",
      " => MC16_S2_2_650_750.png MC16_S2_0_650_750.png\n",
      " => MC16_S2_2_700_0.png MC16_S2_0_700_0.png\n",
      " => MC16_S2_2_700_100.png MC16_S2_0_700_100.png\n",
      " => MC16_S2_2_700_150.png MC16_S2_0_700_150.png\n",
      " => MC16_S2_2_700_200.png MC16_S2_0_700_200.png\n",
      " => MC16_S2_2_700_250.png MC16_S2_0_700_250.png\n",
      " => MC16_S2_2_700_300.png MC16_S2_0_700_300.png\n",
      " => MC16_S2_2_700_350.png MC16_S2_0_700_350.png\n",
      " => MC16_S2_2_700_400.png MC16_S2_0_700_400.png\n",
      " => MC16_S2_2_700_450.png MC16_S2_0_700_450.png\n",
      " => MC16_S2_2_700_50.png MC16_S2_0_700_50.png\n",
      " => MC16_S2_2_700_500.png MC16_S2_0_700_500.png\n",
      " => MC16_S2_2_700_550.png MC16_S2_0_700_550.png\n",
      " => MC16_S2_2_700_600.png MC16_S2_0_700_600.png\n",
      " => MC16_S2_2_700_650.png MC16_S2_0_700_650.png\n",
      " => MC16_S2_2_700_700.png MC16_S2_0_700_700.png\n",
      " => MC16_S2_2_700_750.png MC16_S2_0_700_750.png\n",
      " => MC16_S2_2_750_0.png MC16_S2_0_750_0.png\n",
      " => MC16_S2_2_750_100.png MC16_S2_0_750_100.png\n",
      " => MC16_S2_2_750_150.png MC16_S2_0_750_150.png\n",
      " => MC16_S2_2_750_200.png MC16_S2_0_750_200.png\n",
      " => MC16_S2_2_750_250.png MC16_S2_0_750_250.png\n",
      " => MC16_S2_2_750_300.png MC16_S2_0_750_300.png\n",
      " => MC16_S2_2_750_350.png MC16_S2_0_750_350.png\n",
      " => MC16_S2_2_750_400.png MC16_S2_0_750_400.png\n",
      " => MC16_S2_2_750_450.png MC16_S2_0_750_450.png\n",
      " => MC16_S2_2_750_50.png MC16_S2_0_750_50.png\n",
      " => MC16_S2_2_750_500.png MC16_S2_0_750_500.png\n",
      " => MC16_S2_2_750_550.png MC16_S2_0_750_550.png\n",
      " => MC16_S2_2_750_600.png MC16_S2_0_750_600.png\n",
      " => MC16_S2_2_750_650.png MC16_S2_0_750_650.png\n",
      " => MC16_S2_2_750_700.png MC16_S2_0_750_700.png\n",
      " => MC16_S2_2_750_750.png MC16_S2_0_750_750.png\n"
     ]
    }
   ],
   "source": [
    "for x , y in dd :\n",
    "    print( \" =>\" ,y[0] , y[1])\n",
    "    #print([y1 for i ,y1 in enumerate(y[0].split(\"_\")) if i != 2] , [y1 for i ,y1 in enumerate(y[1].split(\"_\")) if i != 2])\n",
    "    #assert 1 == 2 , \"1 is not equal to 2\"\n",
    "    assert tuple([y1 for i ,y1 in enumerate(y[0].split(\"_\")) if i != 2]) == tuple([y1 for i ,y1 in enumerate(y[1].split(\"_\")) if i != 2]) , f\" yes yes yes !!! => {y[0] , y[1]}\""
   ]
  },
  {
   "cell_type": "code",
   "execution_count": 5,
   "id": "0b3836b6",
   "metadata": {},
   "outputs": [],
   "source": [
    "g1 = torch.Generator().manual_seed(42)\n",
    "train_ds , val_ds , test_ds = random_split(Data_from_disk(tag = 0) , [0.7 , 0.2 ,0.1] , generator = g1)"
   ]
  },
  {
   "cell_type": "code",
   "execution_count": 6,
   "id": "595a0b3f",
   "metadata": {},
   "outputs": [
    {
     "data": {
      "text/plain": [
       "(359, 102, 51)"
      ]
     },
     "execution_count": 6,
     "metadata": {},
     "output_type": "execute_result"
    }
   ],
   "source": [
    "len(train_ds) , len(val_ds) , len(test_ds)"
   ]
  },
  {
   "cell_type": "code",
   "execution_count": 36,
   "id": "4f32e605",
   "metadata": {},
   "outputs": [],
   "source": [
    "batch = 3"
   ]
  },
  {
   "cell_type": "code",
   "execution_count": 37,
   "id": "4c388f03",
   "metadata": {},
   "outputs": [],
   "source": [
    "train_loader = DataLoader(train_ds , batch , shuffle = True)\n",
    "val_loader = DataLoader(val_ds , batch)\n",
    "test_loader = DataLoader(test_ds , batch)"
   ]
  },
  {
   "cell_type": "code",
   "execution_count": 38,
   "id": "99f06c57",
   "metadata": {},
   "outputs": [
    {
     "name": "stdout",
     "output_type": "stream",
     "text": [
      "torch.Size([3, 3, 512, 512]) torch.Size([3, 1, 512, 512])\n"
     ]
    }
   ],
   "source": [
    "for x , y in train_loader:\n",
    "    print(x.shape , y.shape)\n",
    "    break"
   ]
  },
  {
   "cell_type": "code",
   "execution_count": 20,
   "id": "1f0c3efe",
   "metadata": {},
   "outputs": [],
   "source": [
    "EPOCHS = 100\n",
    "lr = 0.01"
   ]
  },
  {
   "cell_type": "code",
   "execution_count": 12,
   "id": "ce5bfd8c",
   "metadata": {},
   "outputs": [],
   "source": [
    "def evaluate(model , val_loader ,loss_func ):\n",
    "    curr_val_loss = 0\n",
    "    with torch.no_grad() :\n",
    "        for i ,mm in enumerate(val_loader):\n",
    "            x = mm[0]\n",
    "            y = mm[1]\n",
    "            x = x.to(device , dtype = torch.float32)\n",
    "            y = y.to(device , dtype = torch.float32)\n",
    "            loss = loss_func(torch.sigmoid(model(x)), y)\n",
    "            curr_val_loss = (curr_val_loss*(i) + loss)/(i+1)\n",
    "    return curr_val_loss        "
   ]
  },
  {
   "cell_type": "code",
   "execution_count": 22,
   "id": "71073b88",
   "metadata": {},
   "outputs": [],
   "source": [
    "class EarlyStopper:\n",
    "    def __init__(self, patience=1, min_delta=0):\n",
    "        self.patience = patience\n",
    "        self.min_delta = min_delta\n",
    "        self.counter = 0\n",
    "        self.min_validation_loss = np.inf\n",
    "\n",
    "    def early_stop(self, validation_loss):\n",
    "        if validation_loss < self.min_validation_loss:\n",
    "            self.min_validation_loss = validation_loss\n",
    "            self.counter = 0\n",
    "        elif validation_loss > (self.min_validation_loss*(self.min_delta + 1)):\n",
    "            self.counter += 1\n",
    "            if self.counter >= self.patience:\n",
    "                return True\n",
    "        return False   "
   ]
  },
  {
   "cell_type": "code",
   "execution_count": 23,
   "id": "87c26cfc",
   "metadata": {},
   "outputs": [],
   "source": [
    "#from collections import deque\n",
    "early_stopper = EarlyStopper(patience = 3 , min_delta = 0.05)\n",
    "def fit(model , epochs , lr , train_loader , val_loader , opt_func , loss_func ):\n",
    "    #Q = deque()\n",
    "    history = []\n",
    "    optimizer = opt_func(model.parameters() , lr)\n",
    "    cur_val_loss = 0\n",
    "    scheduler =  torch.optim.lr_scheduler.ExponentialLR(optimizer , gamma = 0.95 , verbose = True)\n",
    "    for epoch in trange(epochs , total = epochs , desc=\"num_epochs\") :\n",
    "        iterator = tqdm(enumerate(train_loader) , total = len(train_loader) ,desc=\"num_batches\") \n",
    "        for i ,mm in iterator:\n",
    "            x = mm[0]\n",
    "            y = mm[1]\n",
    "            x = x.to(device , non_blocking = True , dtype = torch.float32)\n",
    "            y = y.to(device , non_blocking = True , dtype = torch.float32)\n",
    "            #scheduler.print_lr()\n",
    "            #print(x.device , y.device)\n",
    "            optimizer.zero_grad()\n",
    "            #print(\"zero_grad\")\n",
    "            loss = loss_func(torch.sigmoid(model(x)), y)\n",
    "            #print(\"calc_loss\")\n",
    "            iterator.set_postfix(train_loss = loss.item())\n",
    "            loss.backward()\n",
    "            optimizer.step()\n",
    "            \n",
    "            #torch.cuda.empty_cache()\n",
    "        scheduler.step()    \n",
    "        val_err = evaluate(model , val_loader , loss_func)\n",
    "        curr_train_loss = evaluate(model , train_loader , loss_func)\n",
    "        print(f\"train_loss : {curr_train_loss}  , val_loss : {val_err}\")\n",
    "        history.append((curr_train_loss , val_err ))\n",
    "        #if len(Q) == 3 :\n",
    "        #    Q.popleft()\n",
    "        #Q.append(model.parameters())\n",
    "        if early_stopper.early_stop(val_err) :\n",
    "            #model.parameters() = Q[0]\n",
    "            break\n",
    "            \n",
    "    return history        \n",
    "            "
   ]
  },
  {
   "cell_type": "code",
   "execution_count": 24,
   "id": "50108d2f",
   "metadata": {},
   "outputs": [],
   "source": [
    "fit_dic1 = {\"model\" : model ,\n",
    "           \"epochs\" : EPOCHS ,\n",
    "           \"lr\" : lr ,\n",
    "           \"train_loader\" : train_loader ,\n",
    "           \"val_loader\" : val_loader ,\n",
    "           \"opt_func\" : torch.optim.Adam  ,\n",
    "           \"loss_func\" : torch.nn.functional.binary_cross_entropy}"
   ]
  },
  {
   "cell_type": "code",
   "execution_count": 25,
   "id": "331eaf48",
   "metadata": {
    "scrolled": true
   },
   "outputs": [
    {
     "name": "stdout",
     "output_type": "stream",
     "text": [
      "Adjusting learning rate of group 0 to 1.0000e-02.\n"
     ]
    },
    {
     "data": {
      "application/vnd.jupyter.widget-view+json": {
       "model_id": "3d6451d4114d4e0c8e937247da809fe8",
       "version_major": 2,
       "version_minor": 0
      },
      "text/plain": [
       "num_epochs:   0%|          | 0/100 [00:00<?, ?it/s]"
      ]
     },
     "metadata": {},
     "output_type": "display_data"
    },
    {
     "data": {
      "application/vnd.jupyter.widget-view+json": {
       "model_id": "5fede665d0214acb8a35cd4e0c0814e2",
       "version_major": 2,
       "version_minor": 0
      },
      "text/plain": [
       "num_batches:   0%|          | 0/120 [00:00<?, ?it/s]"
      ]
     },
     "metadata": {},
     "output_type": "display_data"
    },
    {
     "ename": "KeyboardInterrupt",
     "evalue": "",
     "output_type": "error",
     "traceback": [
      "\u001b[1;31m---------------------------------------------------------------------------\u001b[0m",
      "\u001b[1;31mKeyboardInterrupt\u001b[0m                         Traceback (most recent call last)",
      "Cell \u001b[1;32mIn[25], line 1\u001b[0m\n\u001b[1;32m----> 1\u001b[0m history \u001b[38;5;241m=\u001b[39m fit(\u001b[38;5;241m*\u001b[39m\u001b[38;5;241m*\u001b[39mfit_dic1)\n",
      "Cell \u001b[1;32mIn[23], line 22\u001b[0m, in \u001b[0;36mfit\u001b[1;34m(model, epochs, lr, train_loader, val_loader, opt_func, loss_func)\u001b[0m\n\u001b[0;32m     20\u001b[0m loss \u001b[38;5;241m=\u001b[39m loss_func(torch\u001b[38;5;241m.\u001b[39msigmoid(model(x)), y)\n\u001b[0;32m     21\u001b[0m \u001b[38;5;66;03m#print(\"calc_loss\")\u001b[39;00m\n\u001b[1;32m---> 22\u001b[0m \u001b[43miterator\u001b[49m\u001b[38;5;241;43m.\u001b[39;49m\u001b[43mset_postfix\u001b[49m\u001b[43m(\u001b[49m\u001b[43mtrain_loss\u001b[49m\u001b[43m \u001b[49m\u001b[38;5;241;43m=\u001b[39;49m\u001b[43m \u001b[49m\u001b[43mloss\u001b[49m\u001b[38;5;241;43m.\u001b[39;49m\u001b[43mitem\u001b[49m\u001b[43m(\u001b[49m\u001b[43m)\u001b[49m\u001b[43m)\u001b[49m\n\u001b[0;32m     23\u001b[0m loss\u001b[38;5;241m.\u001b[39mbackward()\n\u001b[0;32m     24\u001b[0m optimizer\u001b[38;5;241m.\u001b[39mstep()\n",
      "File \u001b[1;32mD:\\anaconda\\envs\\torch_env\\lib\\site-packages\\tqdm\\std.py:1399\u001b[0m, in \u001b[0;36mtqdm.set_postfix\u001b[1;34m(self, ordered_dict, refresh, **kwargs)\u001b[0m\n\u001b[0;32m   1396\u001b[0m     \u001b[38;5;28;01mif\u001b[39;00m refresh:\n\u001b[0;32m   1397\u001b[0m         \u001b[38;5;28mself\u001b[39m\u001b[38;5;241m.\u001b[39mrefresh()\n\u001b[1;32m-> 1399\u001b[0m \u001b[38;5;28;01mdef\u001b[39;00m \u001b[38;5;21mset_postfix\u001b[39m(\u001b[38;5;28mself\u001b[39m, ordered_dict\u001b[38;5;241m=\u001b[39m\u001b[38;5;28;01mNone\u001b[39;00m, refresh\u001b[38;5;241m=\u001b[39m\u001b[38;5;28;01mTrue\u001b[39;00m, \u001b[38;5;241m*\u001b[39m\u001b[38;5;241m*\u001b[39mkwargs):\n\u001b[0;32m   1400\u001b[0m \u001b[38;5;250m    \u001b[39m\u001b[38;5;124;03m\"\"\"\u001b[39;00m\n\u001b[0;32m   1401\u001b[0m \u001b[38;5;124;03m    Set/modify postfix (additional stats)\u001b[39;00m\n\u001b[0;32m   1402\u001b[0m \u001b[38;5;124;03m    with automatic formatting based on datatype.\u001b[39;00m\n\u001b[1;32m   (...)\u001b[0m\n\u001b[0;32m   1409\u001b[0m \u001b[38;5;124;03m    kwargs  : dict, optional\u001b[39;00m\n\u001b[0;32m   1410\u001b[0m \u001b[38;5;124;03m    \"\"\"\u001b[39;00m\n\u001b[0;32m   1411\u001b[0m     \u001b[38;5;66;03m# Sort in alphabetical order to be more deterministic\u001b[39;00m\n",
      "\u001b[1;31mKeyboardInterrupt\u001b[0m: "
     ]
    }
   ],
   "source": [
    "history = fit(**fit_dic1)"
   ]
  },
  {
   "cell_type": "code",
   "execution_count": 7,
   "id": "8123a880",
   "metadata": {},
   "outputs": [],
   "source": [
    "history = [\n",
    "    ( 0.5210024118423462 ,0.5415207743644714 ) ,\n",
    "     (0.37361085414886475  , 0.3805997371673584) ,\n",
    "    ( 0.3381986916065216 , 0.339740514755249) ,\n",
    "    ( 0.32221803069114685  ,0.33410415053367615) ,\n",
    "    (0.30377575755119324  , 0.31469979882240295) ,\n",
    "    (0.2808768153190613  , 0.29126814007759094) ,\n",
    "    ( 0.25920480489730835  , 0.27106329798698425) ,\n",
    "    ( 0.2549086809158325  ,0.2616758644580841) ,\n",
    "    ( 0.23865899443626404  , 0.2510315775871277) ,\n",
    "    ( 0.23417545855045319  , 0.2460983246564865) ,\n",
    "    (0.22503270208835602  , 0.2377868890762329) ,\n",
    "    ( 0.21796520054340363  ,0.23058636486530304) ,\n",
    "    ( 0.2164277732372284  , 0.22869761288166046) ,\n",
    "    (0.2067599892616272  , 0.21845845878124237) ,\n",
    "    ( 0.2017686665058136  ,0.21408507227897644) ,\n",
    "    ( 0.19680079817771912  ,0.20915335416793823) ,\n",
    "    ( 0.19197140634059906  ,0.2042969912290573) ,\n",
    "    (0.18900370597839355  , 0.20124824345111847) ,\n",
    "    (0.18398010730743408  , 0.19592618942260742) ,\n",
    "    ( 0.18092457950115204  ,0.19178570806980133) ,\n",
    "    ( 0.17566199600696564  ,0.1873977780342102) ,\n",
    "    (0.17368613183498383  ,0.18448972702026367) ,\n",
    "    ( 0.17041553556919098  ,0.18076074123382568) ,\n",
    "    (0.16659367084503174  , 0.17802855372428894) ,\n",
    "    (0.1650014966726303  , 0.17631404101848602) ,\n",
    "    (0.16272717714309692  ,0.1738252490758896) ,\n",
    "    ( 0.161124125123024  ,0.1729673445224762) ,\n",
    "    (0.15711753070354462  ,0.16847681999206543) ,\n",
    "    (0.15637090802192688  ,0.16700361669063568) ,\n",
    "    (0.15387485921382904  ,0.16456814110279083) ,\n",
    "    ( 0.15266869962215424  , 0.1642063856124878) ,\n",
    "    (0.1505383998155594  , 0.16142769157886505) ,\n",
    "    (0.14993791282176971  ,0.16114754974842072) ,\n",
    "    (0.14768773317337036  ,0.15892399847507477) ,\n",
    "    ( 0.14660419523715973  ,0.15799273550510406) ,\n",
    "    (0.14452986419200897  , 0.15613628923892975) ,\n",
    "    (0.14409728348255157  , 0.15502943098545074) ,\n",
    "    (0.14233002066612244  ,0.1538487672805786) ,\n",
    "    (0.1415640413761139  ,0.153089702129364) ,\n",
    "    (0.14135488867759705  ,0.15225636959075928),\n",
    "    ( 0.13975629210472107  ,0.15124383568763733) ,\n",
    "    ( 0.138702854514122  , 0.14973755180835724) ,\n",
    "    (0.13779814541339874  , 0.14894606173038483) ,\n",
    "    (0.13808438181877136  , 0.1489797979593277) ,\n",
    "    ( 0.13657160103321075  , 0.14770711958408356) ,\n",
    "    (0.13529792428016663  , 0.14711229503154755) ,\n",
    "    (0.13676609098911285  , 0.14703050255775452) ,\n",
    "    (0.13406281173229218  , 0.14589524269104004) ,\n",
    "    (0.1338396817445755  ,0.14553962647914886) ,\n",
    "    (0.13314281404018402  ,0.14446115493774414) ,\n",
    "    (0.1323171854019165  , 0.1439349353313446) ,\n",
    "    (0.13254088163375854  ,0.1438038945198059) ,\n",
    "    (0.1317215859889984  ,0.1429009586572647) ,\n",
    "    (0.13140587508678436  , 0.1425641030073166) ,\n",
    "    (0.13069729506969452  , 0.14190657436847687) ,\n",
    "    (0.1308678239583969  , 0.14169836044311523) ,\n",
    "    ( 0.13044288754463196  , 0.1411549299955368) ,\n",
    "    (0.12984918057918549  ,0.14135625958442688) ,\n",
    "    (0.1295296996831894  , 0.14071372151374817) ,\n",
    "    (0.12917736172676086  , 0.14029210805892944) ,\n",
    "    (0.12886984646320343  , 0.1400974541902542) ,\n",
    "    ( 0.12797869741916656  , 0.1398223489522934) ,\n",
    "    ( 0.12761445343494415  , 0.1391971856355667) ,\n",
    "    ( 0.12803025543689728  , 0.13896559178829193) ,\n",
    "    ( 0.12749332189559937  , 0.13881011307239532) ,\n",
    "    ( 0.12762802839279175  , 0.13851235806941986) ,\n",
    "    (0.127237007021904  , 0.13846443593502045) ,\n",
    "    (0.12639814615249634  ,0.13812924921512604) ,\n",
    "    (0.12687072157859802  ,0.1378898024559021) ,\n",
    "    (0.12599767744541168  , 0.1376795768737793) ,\n",
    "    (0.12603312730789185  , 0.13755148649215698) ,\n",
    "    (0.12580104172229767  , 0.13738781213760376) ,\n",
    "    ( 0.1254911720752716  , 0.13722293078899384) ,\n",
    "    (0.1256779283285141  , 0.13709820806980133) ,\n",
    "    ( 0.12551908195018768  , 0.13689236342906952) ,\n",
    "    (0.12511907517910004  , 0.13676908612251282) ,\n",
    "    ( 0.12503066658973694  , 0.13668064773082733) ,\n",
    "    (0.12548232078552246  , 0.13655884563922882) ,\n",
    "    (0.12473141402006149  , 0.13638117909431458) ,\n",
    "    (0.1250576227903366  , 0.13637904822826385) ,\n",
    "    ( 0.1255665123462677  , 0.136102557182312) ,\n",
    "    (0.12493149936199188  , 0.1360814869403839) ,\n",
    "    ( 0.12458065152168274  , 0.1359986513853073) ,\n",
    "    (0.12497865408658981  ,0.13582144677639008) ,\n",
    "    (0.12391338497400284  , 0.1356729120016098) ,\n",
    "    ( 0.12474419176578522  , 0.13563205301761627) ,\n",
    "    (0.12438002973794937  ,0.13559696078300476) ,\n",
    "    (0.12405958026647568  ,0.13554304838180542) ,\n",
    "    (0.12433642148971558  ,0.1354302018880844) ,\n",
    "    ( 0.12362366914749146  , 0.13536261022090912) ,\n",
    "    (0.12423388659954071  , 0.13521264493465424) ,\n",
    "    (0.12379083037376404  , 0.1351424604654312) ,\n",
    "    ( 0.12341891974210739  , 0.13516487181186676) ,\n",
    "    (0.12392546236515045  , 0.13501793146133423) ,\n",
    "    (0.12352608144283295  , 0.1349979192018509) ,\n",
    "    (0.1236729770898819  , 0.13497962057590485) ,\n",
    "    (0.12392865866422653  , 0.13491302728652954) ,\n",
    "    (0.12305524945259094  , 0.13488347828388214) ,\n",
    "    (0.12349066883325577  , 0.13495823740959167) ,\n",
    "    ( 0.12355033308267593  ,0.13485899567604065)\n",
    "     \n",
    "]"
   ]
  },
  {
   "cell_type": "code",
   "execution_count": 13,
   "id": "4cee4360",
   "metadata": {},
   "outputs": [],
   "source": [
    "import matplotlib.pyplot as plt \n"
   ]
  },
  {
   "cell_type": "code",
   "execution_count": 7,
   "id": "31b842a4",
   "metadata": {},
   "outputs": [
    {
     "name": "stdout",
     "output_type": "stream",
     "text": [
      "100\n"
     ]
    }
   ],
   "source": [
    "print(len(his1))"
   ]
  },
  {
   "cell_type": "code",
   "execution_count": 11,
   "id": "a7d915b9",
   "metadata": {},
   "outputs": [
    {
     "data": {
      "image/png": "[encoded data removed]",
      "text/plain": [
       "<Figure size 640x480 with 1 Axes>"
      ]
     },
     "metadata": {},
     "output_type": "display_data"
    }
   ],
   "source": [
    "# Plot and label the training and validation loss values\n",
    "plt.plot(range(1 ,len(his1)+1),his1 , label='Training Loss')\n",
    "plt.plot(range(1 ,len(his2)+1), his2, label='Validation Loss')\n",
    " \n",
    "# Add in a title and axes labels\n",
    "plt.title('Training and Validation Loss')\n",
    "plt.xlabel('Epochs')\n",
    "plt.ylabel('Loss')\n",
    " \n",
    "# Set the tick locations\n",
    "#plt.xticks(arange(0, len(his1), 2))\n",
    " \n",
    "# Display the plot\n",
    "plt.legend(loc='best')\n",
    "plt.savefig(\"../graphs/model1.png\")\n",
    "plt.show()"
   ]
  },
  {
   "cell_type": "code",
   "execution_count": 9,
   "id": "11c97edd",
   "metadata": {},
   "outputs": [
    {
     "name": "stdout",
     "output_type": "stream",
     "text": [
      "Loading Unet model\n",
      "Using device cuda\n",
      "model loaded\n"
     ]
    }
   ],
   "source": [
    "model = UNet(n_channels = 3 , n_classes = 1)\n",
    "print(\"Loading Unet model\")\n",
    "device = torch.device('cuda' if torch.cuda.is_available() else 'cpu')\n",
    "print(f\"Using device {device}\")\n",
    "model.to(device=device)\n",
    "model.load_state_dict(torch.load(\"model1.pth\", map_location=device))\n",
    "print(\"model loaded\")"
   ]
  },
  {
   "cell_type": "code",
   "execution_count": 40,
   "id": "8fade406",
   "metadata": {
    "scrolled": true
   },
   "outputs": [
    {
     "name": "stdout",
     "output_type": "stream",
     "text": [
      "torch.Size([3, 3, 512, 512]) torch.Size([3, 1, 512, 512])\n"
     ]
    }
   ],
   "source": [
    "for x , y in test_loader :\n",
    "    print(x.shape , y.shape)\n",
    "    break"
   ]
  },
  {
   "cell_type": "code",
   "execution_count": 10,
   "id": "9612d6c1",
   "metadata": {},
   "outputs": [
    {
     "data": {
      "text/plain": [
       "(torch.Size([3, 512, 512]), torch.Size([1, 512, 512]))"
      ]
     },
     "execution_count": 10,
     "metadata": {},
     "output_type": "execute_result"
    }
   ],
   "source": [
    "test_ds[0][0].shape , test_ds[0][1].shape"
   ]
  },
  {
   "cell_type": "code",
   "execution_count": 42,
   "id": "be4879a5",
   "metadata": {},
   "outputs": [
    {
     "data": {
      "text/plain": [
       "tensor(0.1291, device='cuda:0')"
      ]
     },
     "execution_count": 42,
     "metadata": {},
     "output_type": "execute_result"
    }
   ],
   "source": [
    "evaluate(model , test_loader ,torch.nn.functional.binary_cross_entropy )"
   ]
  },
  {
   "cell_type": "code",
   "execution_count": 11,
   "id": "4bd841a6",
   "metadata": {},
   "outputs": [],
   "source": [
    "def check(img , threshold ,model):\n",
    "    \"\"\"\n",
    "    img => torch tensor\n",
    "    out => numpy image\n",
    "    \"\"\"\n",
    "    \n",
    "    img = torch.unsqueeze(img , 0)\n",
    "    img = img.to(device=device, dtype=torch.float32)\n",
    "    print(img.shape)\n",
    "    with torch.no_grad():\n",
    "        out_img = torch.sigmoid(model(img))\n",
    "        out_img = out_img.squeeze().cpu().numpy()\n",
    "    print(out_img.shape)    \n",
    "    return out_img    \n",
    "        "
   ]
  },
  {
   "cell_type": "code",
   "execution_count": 12,
   "id": "c012983f",
   "metadata": {},
   "outputs": [
    {
     "name": "stdout",
     "output_type": "stream",
     "text": [
      "torch.Size([1, 3, 512, 512])\n",
      "(512, 512)\n"
     ]
    }
   ],
   "source": [
    "img = check(test_ds[0][0] , 1 , model)"
   ]
  },
  {
   "cell_type": "code",
   "execution_count": 18,
   "id": "81efa4dc",
   "metadata": {},
   "outputs": [
    {
     "data": {
      "text/plain": [
       "numpy.ndarray"
      ]
     },
     "execution_count": 18,
     "metadata": {},
     "output_type": "execute_result"
    }
   ],
   "source": [
    "test_ds[0][1].numpy()"
   ]
  },
  {
   "cell_type": "code",
   "execution_count": null,
   "id": "0f6b1a49",
   "metadata": {},
   "outputs": [],
   "source": [
    "test_ds[0][1].numpy()"
   ]
  },
  {
   "cell_type": "code",
   "execution_count": 13,
   "id": "99698da2",
   "metadata": {},
   "outputs": [],
   "source": [
    "img1 = img > 0.5"
   ]
  },
  {
   "cell_type": "code",
   "execution_count": 14,
   "id": "60e23786",
   "metadata": {},
   "outputs": [
    {
     "data": {
      "text/plain": [
       "array([[1, 1, 1, ..., 1, 1, 1],\n",
       "       [1, 1, 1, ..., 1, 1, 1],\n",
       "       [1, 1, 1, ..., 1, 1, 1],\n",
       "       ...,\n",
       "       [1, 1, 1, ..., 1, 1, 1],\n",
       "       [1, 1, 1, ..., 1, 1, 1],\n",
       "       [0, 1, 1, ..., 1, 1, 1]])"
      ]
     },
     "execution_count": 14,
     "metadata": {},
     "output_type": "execute_result"
    }
   ],
   "source": [
    "img1.astype(int)"
   ]
  },
  {
   "cell_type": "code",
   "execution_count": 45,
   "id": "66a3ae2a",
   "metadata": {},
   "outputs": [],
   "source": [
    "img1 = test_ds[0][1].squeeze().numpy().astype(int)"
   ]
  },
  {
   "cell_type": "code",
   "execution_count": 46,
   "id": "6363e9c9",
   "metadata": {},
   "outputs": [
    {
     "data": {
      "text/plain": [
       "(512, 512)"
      ]
     },
     "execution_count": 46,
     "metadata": {},
     "output_type": "execute_result"
    }
   ],
   "source": [
    "img1.shape"
   ]
  },
  {
   "cell_type": "code",
   "execution_count": 47,
   "id": "6223e58d",
   "metadata": {},
   "outputs": [
    {
     "data": {
      "text/plain": [
       "array([[255, 255, 255, ..., 255, 255, 255],\n",
       "       [255, 255, 255, ..., 255, 255, 255],\n",
       "       [255, 255, 255, ..., 255, 255, 255],\n",
       "       ...,\n",
       "       [255, 255, 255, ..., 255, 255, 255],\n",
       "       [255, 255, 255, ..., 255, 255, 255],\n",
       "       [255, 255, 255, ..., 255, 255, 255]])"
      ]
     },
     "execution_count": 47,
     "metadata": {},
     "output_type": "execute_result"
    }
   ],
   "source": [
    "img1*255"
   ]
  },
  {
   "cell_type": "code",
   "execution_count": 48,
   "id": "f6b06b03",
   "metadata": {},
   "outputs": [],
   "source": [
    "import PIL\n",
    "img1 = PIL.Image.fromarray(img1*255)\n",
    "if img1.mode != \"RGB\" :\n",
    "    img1 = img1.convert(\"RGB\")\n",
    "img1.save(\"imm2.png\")    "
   ]
  },
  {
   "cell_type": "code",
   "execution_count": null,
   "id": "2a052a87",
   "metadata": {},
   "outputs": [],
   "source": [
    "test_ds[0][1]"
   ]
  },
  {
   "cell_type": "code",
   "execution_count": null,
   "id": "551217e7",
   "metadata": {},
   "outputs": [
    {
     "data": {
      "text/plain": [
       "<matplotlib.image.AxesImage at 0x1efa8edbc40>"
      ]
     },
     "execution_count": 22,
     "metadata": {},
     "output_type": "execute_result"
    }
   ],
   "source": [
    "plt.imshow(img1.astype(int) , cmap = \"gray\")"
   ]
  },
  {
   "cell_type": "code",
   "execution_count": 6,
   "id": "045d2f31",
   "metadata": {},
   "outputs": [],
   "source": [
    "m = np.loadtxt(\"history2.csv\" , dtype = \"str\")"
   ]
  },
  {
   "cell_type": "code",
   "execution_count": 10,
   "id": "ad43d333",
   "metadata": {
    "scrolled": true
   },
   "outputs": [],
   "source": [
    "m1 = [x.split(\",\") for x in m]"
   ]
  },
  {
   "cell_type": "code",
   "execution_count": 11,
   "id": "2d5691d4",
   "metadata": {},
   "outputs": [],
   "source": [
    "m1 = [(float(x) , float(y)) for x,y in m1]"
   ]
  },
  {
   "cell_type": "code",
   "execution_count": 14,
   "id": "f41c3a0b",
   "metadata": {
    "scrolled": true
   },
   "outputs": [],
   "source": [
    "his1 ,his2 = list(zip(*m1))"
   ]
  },
  {
   "cell_type": "code",
   "execution_count": null,
   "id": "daf835e4",
   "metadata": {},
   "outputs": [],
   "source": [
    "import matplotlib.pyplot as plt \n",
    "# Plot and label the training and validation loss values\n",
    "plt.plot(range(1 ,len(his1)+1),his1 , label='Training Loss')\n",
    "plt.plot(range(1 ,len(his2)+1), his2, label='Validation Loss')\n",
    " \n",
    "# Add in a title and axes labels\n",
    "plt.title('Training and Validation Loss')\n",
    "plt.xlabel('Epochs')\n",
    "plt.ylabel('Loss')\n",
    " \n",
    "# Set the tick locations\n",
    "#plt.xticks(arange(0, len(his1), 2))\n",
    " \n",
    "# Display the plot\n",
    "plt.legend(loc='best')\n",
    "plt.savefig(\"../graphs/model2.png\")\n",
    "plt.show()"
   ]
  },
  {
   "cell_type": "code",
   "execution_count": null,
   "id": "35873944",
   "metadata": {},
   "outputs": [],
   "source": []
  }
 ],
 "metadata": {
  "kernelspec": {
   "display_name": "Python 3 (ipykernel)",
   "language": "python",
   "name": "python3"
  },
  "language_info": {
   "codemirror_mode": {
    "name": "ipython",
    "version": 3
   },
   "file_extension": ".py",
   "mimetype": "text/x-python",
   "name": "python",
   "nbconvert_exporter": "python",
   "pygments_lexer": "ipython3",
   "version": "3.10.11"
  }
 },
 "nbformat": 4,
 "nbformat_minor": 5
}
